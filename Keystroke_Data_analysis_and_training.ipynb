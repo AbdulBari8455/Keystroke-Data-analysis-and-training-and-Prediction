{
  "nbformat": 4,
  "nbformat_minor": 0,
  "metadata": {
    "colab": {
      "name": "Keystroke Data analysis and training.ipynb",
      "provenance": [],
      "collapsed_sections": []
    },
    "kernelspec": {
      "name": "python3",
      "display_name": "Python 3"
    },
    "language_info": {
      "name": "python"
    }
  },
  "cells": [
    {
      "cell_type": "code",
      "execution_count": 1,
      "metadata": {
        "id": "l5aq9sZJRj1d"
      },
      "outputs": [],
      "source": [
        "import pandas as pd\n",
        "import matplotlib.pyplot as plt\n",
        "import numpy as np\n",
        "import seaborn as sns\n",
        "from sklearn.metrics import confusion_matrix,classification_report,accuracy_score\n",
        "from sklearn.svm import SVC\n",
        "from sklearn.model_selection import GridSearchCV\n",
        "from sklearn.linear_model import LogisticRegression\n",
        "from sklearn.ensemble import ExtraTreesClassifier\n",
        "from sklearn.ensemble import GradientBoostingClassifier\n",
        "from sklearn.neighbors import KNeighborsClassifier\n",
        "from sklearn.naive_bayes import GaussianNB\n",
        "from sklearn.preprocessing import LabelEncoder,StandardScaler,scale\n",
        "from sklearn.model_selection import train_test_split\n",
        "from sklearn import tree\n",
        "from sklearn.pipeline import Pipeline\n",
        "from sklearn.ensemble import RandomForestClassifier"
      ]
    },
    {
      "cell_type": "code",
      "source": [
        "df= pd.read_csv('/content/drive/MyDrive/MachineLearningCSV/KeystrokeData.csv')"
      ],
      "metadata": {
        "id": "C9zBmPLGR3Qj"
      },
      "execution_count": 2,
      "outputs": []
    },
    {
      "cell_type": "code",
      "source": [
        "df.head()"
      ],
      "metadata": {
        "colab": {
          "base_uri": "https://localhost:8080/",
          "height": 300
        },
        "id": "TxSxJcB3SVRi",
        "outputId": "710474d5-1a73-4d4b-b8db-b0d141f81009"
      },
      "execution_count": 3,
      "outputs": [
        {
          "output_type": "execute_result",
          "data": {
            "text/plain": [
              "     User  H.period  DD.period.t  UD.period.t    H.t  DD.t.i  UD.t.i    H.i  \\\n",
              "0  Nikhil     0.119        0.272        0.153  0.103   0.208   0.105  0.103   \n",
              "1  Nikhil     0.119        0.272        0.153  0.103   0.216   0.113  0.103   \n",
              "2  Nikhil     0.127        0.352        0.225  0.143   0.240   0.097  0.143   \n",
              "3  Nikhil     0.122        0.315        0.193  0.127   0.200   0.073  0.111   \n",
              "4  Nikhil     0.143        0.232        0.089  0.119   0.208   0.089  0.127   \n",
              "\n",
              "   DD.i.e  UD.i.e  ...  DD.a.n  UD.a.n    H.n  DD.n.l  UD.n.l    H.l  \\\n",
              "0   0.288   0.185  ...   0.328   0.225  0.135   0.264   0.129  0.111   \n",
              "1   0.287   0.184  ...   0.312   0.209  0.151   0.272   0.121  0.110   \n",
              "2   0.344   0.201  ...   0.297   0.154  0.150   0.263   0.113  0.127   \n",
              "3   0.400   0.289  ...   0.200   0.089  0.143   0.240   0.097  0.159   \n",
              "4   0.264   0.137  ...   0.184   0.041  0.151   0.224   0.073  0.206   \n",
              "\n",
              "   DD.l.Return  UD.l.Return  H.Return   Target  \n",
              "0        0.311        0.200     0.112  Genuine  \n",
              "1        0.304        0.194     0.151  Genuine  \n",
              "2        0.304        0.177     0.127  Genuine  \n",
              "3        0.176        0.017     0.087  Genuine  \n",
              "4        0.192       -0.014     0.119  Genuine  \n",
              "\n",
              "[5 rows x 33 columns]"
            ],
            "text/html": [
              "\n",
              "  <div id=\"df-b4061920-45f6-4a48-a586-89c1b832c48e\">\n",
              "    <div class=\"colab-df-container\">\n",
              "      <div>\n",
              "<style scoped>\n",
              "    .dataframe tbody tr th:only-of-type {\n",
              "        vertical-align: middle;\n",
              "    }\n",
              "\n",
              "    .dataframe tbody tr th {\n",
              "        vertical-align: top;\n",
              "    }\n",
              "\n",
              "    .dataframe thead th {\n",
              "        text-align: right;\n",
              "    }\n",
              "</style>\n",
              "<table border=\"1\" class=\"dataframe\">\n",
              "  <thead>\n",
              "    <tr style=\"text-align: right;\">\n",
              "      <th></th>\n",
              "      <th>User</th>\n",
              "      <th>H.period</th>\n",
              "      <th>DD.period.t</th>\n",
              "      <th>UD.period.t</th>\n",
              "      <th>H.t</th>\n",
              "      <th>DD.t.i</th>\n",
              "      <th>UD.t.i</th>\n",
              "      <th>H.i</th>\n",
              "      <th>DD.i.e</th>\n",
              "      <th>UD.i.e</th>\n",
              "      <th>...</th>\n",
              "      <th>DD.a.n</th>\n",
              "      <th>UD.a.n</th>\n",
              "      <th>H.n</th>\n",
              "      <th>DD.n.l</th>\n",
              "      <th>UD.n.l</th>\n",
              "      <th>H.l</th>\n",
              "      <th>DD.l.Return</th>\n",
              "      <th>UD.l.Return</th>\n",
              "      <th>H.Return</th>\n",
              "      <th>Target</th>\n",
              "    </tr>\n",
              "  </thead>\n",
              "  <tbody>\n",
              "    <tr>\n",
              "      <th>0</th>\n",
              "      <td>Nikhil</td>\n",
              "      <td>0.119</td>\n",
              "      <td>0.272</td>\n",
              "      <td>0.153</td>\n",
              "      <td>0.103</td>\n",
              "      <td>0.208</td>\n",
              "      <td>0.105</td>\n",
              "      <td>0.103</td>\n",
              "      <td>0.288</td>\n",
              "      <td>0.185</td>\n",
              "      <td>...</td>\n",
              "      <td>0.328</td>\n",
              "      <td>0.225</td>\n",
              "      <td>0.135</td>\n",
              "      <td>0.264</td>\n",
              "      <td>0.129</td>\n",
              "      <td>0.111</td>\n",
              "      <td>0.311</td>\n",
              "      <td>0.200</td>\n",
              "      <td>0.112</td>\n",
              "      <td>Genuine</td>\n",
              "    </tr>\n",
              "    <tr>\n",
              "      <th>1</th>\n",
              "      <td>Nikhil</td>\n",
              "      <td>0.119</td>\n",
              "      <td>0.272</td>\n",
              "      <td>0.153</td>\n",
              "      <td>0.103</td>\n",
              "      <td>0.216</td>\n",
              "      <td>0.113</td>\n",
              "      <td>0.103</td>\n",
              "      <td>0.287</td>\n",
              "      <td>0.184</td>\n",
              "      <td>...</td>\n",
              "      <td>0.312</td>\n",
              "      <td>0.209</td>\n",
              "      <td>0.151</td>\n",
              "      <td>0.272</td>\n",
              "      <td>0.121</td>\n",
              "      <td>0.110</td>\n",
              "      <td>0.304</td>\n",
              "      <td>0.194</td>\n",
              "      <td>0.151</td>\n",
              "      <td>Genuine</td>\n",
              "    </tr>\n",
              "    <tr>\n",
              "      <th>2</th>\n",
              "      <td>Nikhil</td>\n",
              "      <td>0.127</td>\n",
              "      <td>0.352</td>\n",
              "      <td>0.225</td>\n",
              "      <td>0.143</td>\n",
              "      <td>0.240</td>\n",
              "      <td>0.097</td>\n",
              "      <td>0.143</td>\n",
              "      <td>0.344</td>\n",
              "      <td>0.201</td>\n",
              "      <td>...</td>\n",
              "      <td>0.297</td>\n",
              "      <td>0.154</td>\n",
              "      <td>0.150</td>\n",
              "      <td>0.263</td>\n",
              "      <td>0.113</td>\n",
              "      <td>0.127</td>\n",
              "      <td>0.304</td>\n",
              "      <td>0.177</td>\n",
              "      <td>0.127</td>\n",
              "      <td>Genuine</td>\n",
              "    </tr>\n",
              "    <tr>\n",
              "      <th>3</th>\n",
              "      <td>Nikhil</td>\n",
              "      <td>0.122</td>\n",
              "      <td>0.315</td>\n",
              "      <td>0.193</td>\n",
              "      <td>0.127</td>\n",
              "      <td>0.200</td>\n",
              "      <td>0.073</td>\n",
              "      <td>0.111</td>\n",
              "      <td>0.400</td>\n",
              "      <td>0.289</td>\n",
              "      <td>...</td>\n",
              "      <td>0.200</td>\n",
              "      <td>0.089</td>\n",
              "      <td>0.143</td>\n",
              "      <td>0.240</td>\n",
              "      <td>0.097</td>\n",
              "      <td>0.159</td>\n",
              "      <td>0.176</td>\n",
              "      <td>0.017</td>\n",
              "      <td>0.087</td>\n",
              "      <td>Genuine</td>\n",
              "    </tr>\n",
              "    <tr>\n",
              "      <th>4</th>\n",
              "      <td>Nikhil</td>\n",
              "      <td>0.143</td>\n",
              "      <td>0.232</td>\n",
              "      <td>0.089</td>\n",
              "      <td>0.119</td>\n",
              "      <td>0.208</td>\n",
              "      <td>0.089</td>\n",
              "      <td>0.127</td>\n",
              "      <td>0.264</td>\n",
              "      <td>0.137</td>\n",
              "      <td>...</td>\n",
              "      <td>0.184</td>\n",
              "      <td>0.041</td>\n",
              "      <td>0.151</td>\n",
              "      <td>0.224</td>\n",
              "      <td>0.073</td>\n",
              "      <td>0.206</td>\n",
              "      <td>0.192</td>\n",
              "      <td>-0.014</td>\n",
              "      <td>0.119</td>\n",
              "      <td>Genuine</td>\n",
              "    </tr>\n",
              "  </tbody>\n",
              "</table>\n",
              "<p>5 rows × 33 columns</p>\n",
              "</div>\n",
              "      <button class=\"colab-df-convert\" onclick=\"convertToInteractive('df-b4061920-45f6-4a48-a586-89c1b832c48e')\"\n",
              "              title=\"Convert this dataframe to an interactive table.\"\n",
              "              style=\"display:none;\">\n",
              "        \n",
              "  <svg xmlns=\"http://www.w3.org/2000/svg\" height=\"24px\"viewBox=\"0 0 24 24\"\n",
              "       width=\"24px\">\n",
              "    <path d=\"M0 0h24v24H0V0z\" fill=\"none\"/>\n",
              "    <path d=\"M18.56 5.44l.94 2.06.94-2.06 2.06-.94-2.06-.94-.94-2.06-.94 2.06-2.06.94zm-11 1L8.5 8.5l.94-2.06 2.06-.94-2.06-.94L8.5 2.5l-.94 2.06-2.06.94zm10 10l.94 2.06.94-2.06 2.06-.94-2.06-.94-.94-2.06-.94 2.06-2.06.94z\"/><path d=\"M17.41 7.96l-1.37-1.37c-.4-.4-.92-.59-1.43-.59-.52 0-1.04.2-1.43.59L10.3 9.45l-7.72 7.72c-.78.78-.78 2.05 0 2.83L4 21.41c.39.39.9.59 1.41.59.51 0 1.02-.2 1.41-.59l7.78-7.78 2.81-2.81c.8-.78.8-2.07 0-2.86zM5.41 20L4 18.59l7.72-7.72 1.47 1.35L5.41 20z\"/>\n",
              "  </svg>\n",
              "      </button>\n",
              "      \n",
              "  <style>\n",
              "    .colab-df-container {\n",
              "      display:flex;\n",
              "      flex-wrap:wrap;\n",
              "      gap: 12px;\n",
              "    }\n",
              "\n",
              "    .colab-df-convert {\n",
              "      background-color: #E8F0FE;\n",
              "      border: none;\n",
              "      border-radius: 50%;\n",
              "      cursor: pointer;\n",
              "      display: none;\n",
              "      fill: #1967D2;\n",
              "      height: 32px;\n",
              "      padding: 0 0 0 0;\n",
              "      width: 32px;\n",
              "    }\n",
              "\n",
              "    .colab-df-convert:hover {\n",
              "      background-color: #E2EBFA;\n",
              "      box-shadow: 0px 1px 2px rgba(60, 64, 67, 0.3), 0px 1px 3px 1px rgba(60, 64, 67, 0.15);\n",
              "      fill: #174EA6;\n",
              "    }\n",
              "\n",
              "    [theme=dark] .colab-df-convert {\n",
              "      background-color: #3B4455;\n",
              "      fill: #D2E3FC;\n",
              "    }\n",
              "\n",
              "    [theme=dark] .colab-df-convert:hover {\n",
              "      background-color: #434B5C;\n",
              "      box-shadow: 0px 1px 3px 1px rgba(0, 0, 0, 0.15);\n",
              "      filter: drop-shadow(0px 1px 2px rgba(0, 0, 0, 0.3));\n",
              "      fill: #FFFFFF;\n",
              "    }\n",
              "  </style>\n",
              "\n",
              "      <script>\n",
              "        const buttonEl =\n",
              "          document.querySelector('#df-b4061920-45f6-4a48-a586-89c1b832c48e button.colab-df-convert');\n",
              "        buttonEl.style.display =\n",
              "          google.colab.kernel.accessAllowed ? 'block' : 'none';\n",
              "\n",
              "        async function convertToInteractive(key) {\n",
              "          const element = document.querySelector('#df-b4061920-45f6-4a48-a586-89c1b832c48e');\n",
              "          const dataTable =\n",
              "            await google.colab.kernel.invokeFunction('convertToInteractive',\n",
              "                                                     [key], {});\n",
              "          if (!dataTable) return;\n",
              "\n",
              "          const docLinkHtml = 'Like what you see? Visit the ' +\n",
              "            '<a target=\"_blank\" href=https://colab.research.google.com/notebooks/data_table.ipynb>data table notebook</a>'\n",
              "            + ' to learn more about interactive tables.';\n",
              "          element.innerHTML = '';\n",
              "          dataTable['output_type'] = 'display_data';\n",
              "          await google.colab.output.renderOutput(dataTable, element);\n",
              "          const docLink = document.createElement('div');\n",
              "          docLink.innerHTML = docLinkHtml;\n",
              "          element.appendChild(docLink);\n",
              "        }\n",
              "      </script>\n",
              "    </div>\n",
              "  </div>\n",
              "  "
            ]
          },
          "metadata": {},
          "execution_count": 3
        }
      ]
    },
    {
      "cell_type": "code",
      "source": [
        "df.shape"
      ],
      "metadata": {
        "colab": {
          "base_uri": "https://localhost:8080/"
        },
        "id": "3Sbm9zaESdd8",
        "outputId": "3157c3ac-ef1c-4599-9991-afd38eca6487"
      },
      "execution_count": 7,
      "outputs": [
        {
          "output_type": "execute_result",
          "data": {
            "text/plain": [
              "(1422, 33)"
            ]
          },
          "metadata": {},
          "execution_count": 7
        }
      ]
    },
    {
      "cell_type": "code",
      "source": [
        "df['Target'].unique()"
      ],
      "metadata": {
        "colab": {
          "base_uri": "https://localhost:8080/"
        },
        "id": "MbNCkirgWRPX",
        "outputId": "2099122f-89ac-435f-cedf-72cfa9393da7"
      },
      "execution_count": 8,
      "outputs": [
        {
          "output_type": "execute_result",
          "data": {
            "text/plain": [
              "array(['Genuine', 'Imposter'], dtype=object)"
            ]
          },
          "metadata": {},
          "execution_count": 8
        }
      ]
    },
    {
      "cell_type": "code",
      "source": [
        "df.describe()"
      ],
      "metadata": {
        "colab": {
          "base_uri": "https://localhost:8080/",
          "height": 394
        },
        "id": "B5I0zOK6SggR",
        "outputId": "a6454a00-0a69-4ceb-c567-b1b6835f6296"
      },
      "execution_count": 9,
      "outputs": [
        {
          "output_type": "execute_result",
          "data": {
            "text/plain": [
              "          H.period  DD.period.t  UD.period.t          H.t       DD.t.i  \\\n",
              "count  1422.000000  1422.000000  1422.000000  1422.000000  1422.000000   \n",
              "mean      0.107737     0.338850     0.231113     0.102036     0.238796   \n",
              "std       0.026404     0.394404     0.399970     0.018015     0.125704   \n",
              "min       0.030000     0.071000    -0.026000     0.031000     0.048000   \n",
              "25%       0.087000     0.207000     0.088000     0.092000     0.176000   \n",
              "50%       0.110500     0.249000     0.137000     0.103000     0.216000   \n",
              "75%       0.127000     0.380000     0.281000     0.112000     0.256000   \n",
              "max       0.181000    11.352000    11.265000     0.200000     2.077000   \n",
              "\n",
              "            UD.t.i          H.i       DD.i.e       UD.i.e          H.e  ...  \\\n",
              "count  1422.000000  1422.000000  1422.000000  1422.000000  1422.000000  ...   \n",
              "mean      0.136760     0.098268     0.238694     0.140426     0.116487  ...   \n",
              "std       0.128689     0.019057     0.154828     0.155526     0.042225  ...   \n",
              "min      -0.016000     0.062000     0.050000    -0.039000     0.054000  ...   \n",
              "25%       0.073000     0.085000     0.160000     0.057000     0.088000  ...   \n",
              "50%       0.111000     0.096000     0.208000     0.105000     0.118000  ...   \n",
              "75%       0.153750     0.111000     0.256000     0.154750     0.135000  ...   \n",
              "max       1.906000     0.216000     1.934000     1.803000     1.201000  ...   \n",
              "\n",
              "               H.a       DD.a.n       UD.a.n          H.n       DD.n.l  \\\n",
              "count  1422.000000  1422.000000  1422.000000  1422.000000  1422.000000   \n",
              "mean      0.107756     0.200232     0.092476     0.122205     0.250179   \n",
              "std       0.025489     0.126976     0.127584     0.029822     0.150096   \n",
              "min       0.047000     0.008000    -0.151000     0.032000     0.023000   \n",
              "25%       0.088000     0.136000     0.032000     0.096000     0.168000   \n",
              "50%       0.105000     0.160000     0.057000     0.125500     0.218500   \n",
              "75%       0.120000     0.207000     0.097000     0.143000     0.272000   \n",
              "max       0.319000     1.795000     1.695000     0.247000     2.040000   \n",
              "\n",
              "            UD.n.l          H.l  DD.l.Return  UD.l.Return     H.Return  \n",
              "count  1422.000000  1422.000000  1422.000000  1422.000000  1422.000000  \n",
              "mean      0.127973     0.145930     0.200954     0.055025     0.120388  \n",
              "std       0.154115     0.060938     0.131279     0.169426     0.037185  \n",
              "min      -0.128000     0.031000     0.040000    -0.184000     0.031000  \n",
              "25%       0.041000     0.087000     0.115000    -0.079000     0.087000  \n",
              "50%       0.081000     0.138000     0.167000    -0.003500     0.119000  \n",
              "75%       0.145000     0.199000     0.256000     0.169000     0.151000  \n",
              "max       1.897000     0.335000     2.224000     2.153000     0.271000  \n",
              "\n",
              "[8 rows x 31 columns]"
            ],
            "text/html": [
              "\n",
              "  <div id=\"df-ca72698b-99ee-42e0-9de6-e24eeb115387\">\n",
              "    <div class=\"colab-df-container\">\n",
              "      <div>\n",
              "<style scoped>\n",
              "    .dataframe tbody tr th:only-of-type {\n",
              "        vertical-align: middle;\n",
              "    }\n",
              "\n",
              "    .dataframe tbody tr th {\n",
              "        vertical-align: top;\n",
              "    }\n",
              "\n",
              "    .dataframe thead th {\n",
              "        text-align: right;\n",
              "    }\n",
              "</style>\n",
              "<table border=\"1\" class=\"dataframe\">\n",
              "  <thead>\n",
              "    <tr style=\"text-align: right;\">\n",
              "      <th></th>\n",
              "      <th>H.period</th>\n",
              "      <th>DD.period.t</th>\n",
              "      <th>UD.period.t</th>\n",
              "      <th>H.t</th>\n",
              "      <th>DD.t.i</th>\n",
              "      <th>UD.t.i</th>\n",
              "      <th>H.i</th>\n",
              "      <th>DD.i.e</th>\n",
              "      <th>UD.i.e</th>\n",
              "      <th>H.e</th>\n",
              "      <th>...</th>\n",
              "      <th>H.a</th>\n",
              "      <th>DD.a.n</th>\n",
              "      <th>UD.a.n</th>\n",
              "      <th>H.n</th>\n",
              "      <th>DD.n.l</th>\n",
              "      <th>UD.n.l</th>\n",
              "      <th>H.l</th>\n",
              "      <th>DD.l.Return</th>\n",
              "      <th>UD.l.Return</th>\n",
              "      <th>H.Return</th>\n",
              "    </tr>\n",
              "  </thead>\n",
              "  <tbody>\n",
              "    <tr>\n",
              "      <th>count</th>\n",
              "      <td>1422.000000</td>\n",
              "      <td>1422.000000</td>\n",
              "      <td>1422.000000</td>\n",
              "      <td>1422.000000</td>\n",
              "      <td>1422.000000</td>\n",
              "      <td>1422.000000</td>\n",
              "      <td>1422.000000</td>\n",
              "      <td>1422.000000</td>\n",
              "      <td>1422.000000</td>\n",
              "      <td>1422.000000</td>\n",
              "      <td>...</td>\n",
              "      <td>1422.000000</td>\n",
              "      <td>1422.000000</td>\n",
              "      <td>1422.000000</td>\n",
              "      <td>1422.000000</td>\n",
              "      <td>1422.000000</td>\n",
              "      <td>1422.000000</td>\n",
              "      <td>1422.000000</td>\n",
              "      <td>1422.000000</td>\n",
              "      <td>1422.000000</td>\n",
              "      <td>1422.000000</td>\n",
              "    </tr>\n",
              "    <tr>\n",
              "      <th>mean</th>\n",
              "      <td>0.107737</td>\n",
              "      <td>0.338850</td>\n",
              "      <td>0.231113</td>\n",
              "      <td>0.102036</td>\n",
              "      <td>0.238796</td>\n",
              "      <td>0.136760</td>\n",
              "      <td>0.098268</td>\n",
              "      <td>0.238694</td>\n",
              "      <td>0.140426</td>\n",
              "      <td>0.116487</td>\n",
              "      <td>...</td>\n",
              "      <td>0.107756</td>\n",
              "      <td>0.200232</td>\n",
              "      <td>0.092476</td>\n",
              "      <td>0.122205</td>\n",
              "      <td>0.250179</td>\n",
              "      <td>0.127973</td>\n",
              "      <td>0.145930</td>\n",
              "      <td>0.200954</td>\n",
              "      <td>0.055025</td>\n",
              "      <td>0.120388</td>\n",
              "    </tr>\n",
              "    <tr>\n",
              "      <th>std</th>\n",
              "      <td>0.026404</td>\n",
              "      <td>0.394404</td>\n",
              "      <td>0.399970</td>\n",
              "      <td>0.018015</td>\n",
              "      <td>0.125704</td>\n",
              "      <td>0.128689</td>\n",
              "      <td>0.019057</td>\n",
              "      <td>0.154828</td>\n",
              "      <td>0.155526</td>\n",
              "      <td>0.042225</td>\n",
              "      <td>...</td>\n",
              "      <td>0.025489</td>\n",
              "      <td>0.126976</td>\n",
              "      <td>0.127584</td>\n",
              "      <td>0.029822</td>\n",
              "      <td>0.150096</td>\n",
              "      <td>0.154115</td>\n",
              "      <td>0.060938</td>\n",
              "      <td>0.131279</td>\n",
              "      <td>0.169426</td>\n",
              "      <td>0.037185</td>\n",
              "    </tr>\n",
              "    <tr>\n",
              "      <th>min</th>\n",
              "      <td>0.030000</td>\n",
              "      <td>0.071000</td>\n",
              "      <td>-0.026000</td>\n",
              "      <td>0.031000</td>\n",
              "      <td>0.048000</td>\n",
              "      <td>-0.016000</td>\n",
              "      <td>0.062000</td>\n",
              "      <td>0.050000</td>\n",
              "      <td>-0.039000</td>\n",
              "      <td>0.054000</td>\n",
              "      <td>...</td>\n",
              "      <td>0.047000</td>\n",
              "      <td>0.008000</td>\n",
              "      <td>-0.151000</td>\n",
              "      <td>0.032000</td>\n",
              "      <td>0.023000</td>\n",
              "      <td>-0.128000</td>\n",
              "      <td>0.031000</td>\n",
              "      <td>0.040000</td>\n",
              "      <td>-0.184000</td>\n",
              "      <td>0.031000</td>\n",
              "    </tr>\n",
              "    <tr>\n",
              "      <th>25%</th>\n",
              "      <td>0.087000</td>\n",
              "      <td>0.207000</td>\n",
              "      <td>0.088000</td>\n",
              "      <td>0.092000</td>\n",
              "      <td>0.176000</td>\n",
              "      <td>0.073000</td>\n",
              "      <td>0.085000</td>\n",
              "      <td>0.160000</td>\n",
              "      <td>0.057000</td>\n",
              "      <td>0.088000</td>\n",
              "      <td>...</td>\n",
              "      <td>0.088000</td>\n",
              "      <td>0.136000</td>\n",
              "      <td>0.032000</td>\n",
              "      <td>0.096000</td>\n",
              "      <td>0.168000</td>\n",
              "      <td>0.041000</td>\n",
              "      <td>0.087000</td>\n",
              "      <td>0.115000</td>\n",
              "      <td>-0.079000</td>\n",
              "      <td>0.087000</td>\n",
              "    </tr>\n",
              "    <tr>\n",
              "      <th>50%</th>\n",
              "      <td>0.110500</td>\n",
              "      <td>0.249000</td>\n",
              "      <td>0.137000</td>\n",
              "      <td>0.103000</td>\n",
              "      <td>0.216000</td>\n",
              "      <td>0.111000</td>\n",
              "      <td>0.096000</td>\n",
              "      <td>0.208000</td>\n",
              "      <td>0.105000</td>\n",
              "      <td>0.118000</td>\n",
              "      <td>...</td>\n",
              "      <td>0.105000</td>\n",
              "      <td>0.160000</td>\n",
              "      <td>0.057000</td>\n",
              "      <td>0.125500</td>\n",
              "      <td>0.218500</td>\n",
              "      <td>0.081000</td>\n",
              "      <td>0.138000</td>\n",
              "      <td>0.167000</td>\n",
              "      <td>-0.003500</td>\n",
              "      <td>0.119000</td>\n",
              "    </tr>\n",
              "    <tr>\n",
              "      <th>75%</th>\n",
              "      <td>0.127000</td>\n",
              "      <td>0.380000</td>\n",
              "      <td>0.281000</td>\n",
              "      <td>0.112000</td>\n",
              "      <td>0.256000</td>\n",
              "      <td>0.153750</td>\n",
              "      <td>0.111000</td>\n",
              "      <td>0.256000</td>\n",
              "      <td>0.154750</td>\n",
              "      <td>0.135000</td>\n",
              "      <td>...</td>\n",
              "      <td>0.120000</td>\n",
              "      <td>0.207000</td>\n",
              "      <td>0.097000</td>\n",
              "      <td>0.143000</td>\n",
              "      <td>0.272000</td>\n",
              "      <td>0.145000</td>\n",
              "      <td>0.199000</td>\n",
              "      <td>0.256000</td>\n",
              "      <td>0.169000</td>\n",
              "      <td>0.151000</td>\n",
              "    </tr>\n",
              "    <tr>\n",
              "      <th>max</th>\n",
              "      <td>0.181000</td>\n",
              "      <td>11.352000</td>\n",
              "      <td>11.265000</td>\n",
              "      <td>0.200000</td>\n",
              "      <td>2.077000</td>\n",
              "      <td>1.906000</td>\n",
              "      <td>0.216000</td>\n",
              "      <td>1.934000</td>\n",
              "      <td>1.803000</td>\n",
              "      <td>1.201000</td>\n",
              "      <td>...</td>\n",
              "      <td>0.319000</td>\n",
              "      <td>1.795000</td>\n",
              "      <td>1.695000</td>\n",
              "      <td>0.247000</td>\n",
              "      <td>2.040000</td>\n",
              "      <td>1.897000</td>\n",
              "      <td>0.335000</td>\n",
              "      <td>2.224000</td>\n",
              "      <td>2.153000</td>\n",
              "      <td>0.271000</td>\n",
              "    </tr>\n",
              "  </tbody>\n",
              "</table>\n",
              "<p>8 rows × 31 columns</p>\n",
              "</div>\n",
              "      <button class=\"colab-df-convert\" onclick=\"convertToInteractive('df-ca72698b-99ee-42e0-9de6-e24eeb115387')\"\n",
              "              title=\"Convert this dataframe to an interactive table.\"\n",
              "              style=\"display:none;\">\n",
              "        \n",
              "  <svg xmlns=\"http://www.w3.org/2000/svg\" height=\"24px\"viewBox=\"0 0 24 24\"\n",
              "       width=\"24px\">\n",
              "    <path d=\"M0 0h24v24H0V0z\" fill=\"none\"/>\n",
              "    <path d=\"M18.56 5.44l.94 2.06.94-2.06 2.06-.94-2.06-.94-.94-2.06-.94 2.06-2.06.94zm-11 1L8.5 8.5l.94-2.06 2.06-.94-2.06-.94L8.5 2.5l-.94 2.06-2.06.94zm10 10l.94 2.06.94-2.06 2.06-.94-2.06-.94-.94-2.06-.94 2.06-2.06.94z\"/><path d=\"M17.41 7.96l-1.37-1.37c-.4-.4-.92-.59-1.43-.59-.52 0-1.04.2-1.43.59L10.3 9.45l-7.72 7.72c-.78.78-.78 2.05 0 2.83L4 21.41c.39.39.9.59 1.41.59.51 0 1.02-.2 1.41-.59l7.78-7.78 2.81-2.81c.8-.78.8-2.07 0-2.86zM5.41 20L4 18.59l7.72-7.72 1.47 1.35L5.41 20z\"/>\n",
              "  </svg>\n",
              "      </button>\n",
              "      \n",
              "  <style>\n",
              "    .colab-df-container {\n",
              "      display:flex;\n",
              "      flex-wrap:wrap;\n",
              "      gap: 12px;\n",
              "    }\n",
              "\n",
              "    .colab-df-convert {\n",
              "      background-color: #E8F0FE;\n",
              "      border: none;\n",
              "      border-radius: 50%;\n",
              "      cursor: pointer;\n",
              "      display: none;\n",
              "      fill: #1967D2;\n",
              "      height: 32px;\n",
              "      padding: 0 0 0 0;\n",
              "      width: 32px;\n",
              "    }\n",
              "\n",
              "    .colab-df-convert:hover {\n",
              "      background-color: #E2EBFA;\n",
              "      box-shadow: 0px 1px 2px rgba(60, 64, 67, 0.3), 0px 1px 3px 1px rgba(60, 64, 67, 0.15);\n",
              "      fill: #174EA6;\n",
              "    }\n",
              "\n",
              "    [theme=dark] .colab-df-convert {\n",
              "      background-color: #3B4455;\n",
              "      fill: #D2E3FC;\n",
              "    }\n",
              "\n",
              "    [theme=dark] .colab-df-convert:hover {\n",
              "      background-color: #434B5C;\n",
              "      box-shadow: 0px 1px 3px 1px rgba(0, 0, 0, 0.15);\n",
              "      filter: drop-shadow(0px 1px 2px rgba(0, 0, 0, 0.3));\n",
              "      fill: #FFFFFF;\n",
              "    }\n",
              "  </style>\n",
              "\n",
              "      <script>\n",
              "        const buttonEl =\n",
              "          document.querySelector('#df-ca72698b-99ee-42e0-9de6-e24eeb115387 button.colab-df-convert');\n",
              "        buttonEl.style.display =\n",
              "          google.colab.kernel.accessAllowed ? 'block' : 'none';\n",
              "\n",
              "        async function convertToInteractive(key) {\n",
              "          const element = document.querySelector('#df-ca72698b-99ee-42e0-9de6-e24eeb115387');\n",
              "          const dataTable =\n",
              "            await google.colab.kernel.invokeFunction('convertToInteractive',\n",
              "                                                     [key], {});\n",
              "          if (!dataTable) return;\n",
              "\n",
              "          const docLinkHtml = 'Like what you see? Visit the ' +\n",
              "            '<a target=\"_blank\" href=https://colab.research.google.com/notebooks/data_table.ipynb>data table notebook</a>'\n",
              "            + ' to learn more about interactive tables.';\n",
              "          element.innerHTML = '';\n",
              "          dataTable['output_type'] = 'display_data';\n",
              "          await google.colab.output.renderOutput(dataTable, element);\n",
              "          const docLink = document.createElement('div');\n",
              "          docLink.innerHTML = docLinkHtml;\n",
              "          element.appendChild(docLink);\n",
              "        }\n",
              "      </script>\n",
              "    </div>\n",
              "  </div>\n",
              "  "
            ]
          },
          "metadata": {},
          "execution_count": 9
        }
      ]
    },
    {
      "cell_type": "code",
      "source": [
        "df.info()"
      ],
      "metadata": {
        "colab": {
          "base_uri": "https://localhost:8080/"
        },
        "id": "YOiV5g4TS3gV",
        "outputId": "ce9bbc24-7084-487a-85fb-aebb5bd48312"
      },
      "execution_count": 10,
      "outputs": [
        {
          "output_type": "stream",
          "name": "stdout",
          "text": [
            "<class 'pandas.core.frame.DataFrame'>\n",
            "RangeIndex: 1422 entries, 0 to 1421\n",
            "Data columns (total 33 columns):\n",
            " #   Column           Non-Null Count  Dtype  \n",
            "---  ------           --------------  -----  \n",
            " 0   User             1422 non-null   object \n",
            " 1   H.period         1422 non-null   float64\n",
            " 2   DD.period.t      1422 non-null   float64\n",
            " 3   UD.period.t      1422 non-null   float64\n",
            " 4   H.t              1422 non-null   float64\n",
            " 5   DD.t.i           1422 non-null   float64\n",
            " 6   UD.t.i           1422 non-null   float64\n",
            " 7   H.i              1422 non-null   float64\n",
            " 8   DD.i.e           1422 non-null   float64\n",
            " 9   UD.i.e           1422 non-null   float64\n",
            " 10  H.e              1422 non-null   float64\n",
            " 11  DD.e.five        1422 non-null   float64\n",
            " 12  UD.e.five        1422 non-null   float64\n",
            " 13  H.five           1422 non-null   float64\n",
            " 14  DD.five.Shift.r  1422 non-null   float64\n",
            " 15  UD.five.Shift.r  1422 non-null   float64\n",
            " 16  H.Shift.r        1422 non-null   float64\n",
            " 17  DD.Shift.r.o     1422 non-null   float64\n",
            " 18  UD.Shift.r.o     1422 non-null   float64\n",
            " 19  H.o              1422 non-null   float64\n",
            " 20  DD.o.a           1422 non-null   float64\n",
            " 21  UD.o.a           1422 non-null   float64\n",
            " 22  H.a              1422 non-null   float64\n",
            " 23  DD.a.n           1422 non-null   float64\n",
            " 24  UD.a.n           1422 non-null   float64\n",
            " 25  H.n              1422 non-null   float64\n",
            " 26  DD.n.l           1422 non-null   float64\n",
            " 27  UD.n.l           1422 non-null   float64\n",
            " 28  H.l              1422 non-null   float64\n",
            " 29  DD.l.Return      1422 non-null   float64\n",
            " 30  UD.l.Return      1422 non-null   float64\n",
            " 31  H.Return         1422 non-null   float64\n",
            " 32  Target           1422 non-null   object \n",
            "dtypes: float64(31), object(2)\n",
            "memory usage: 366.7+ KB\n"
          ]
        }
      ]
    },
    {
      "cell_type": "markdown",
      "source": [
        "**Note**\n",
        "The Data is Looks to be Clean there is no null value in this data"
      ],
      "metadata": {
        "id": "lHrt4zYJU8Ux"
      }
    },
    {
      "cell_type": "code",
      "source": [
        "#plot the object features #\n",
        "plt.style.use('ggplot')\n",
        "#Create a loop that print all categorical variable against the Target variable\n",
        "for col in df.select_dtypes('object'):\n",
        "    plt.figure(figsize=(15,6))\n",
        "    sns.countplot(x=col,hue='Target',data=df)"
      ],
      "metadata": {
        "colab": {
          "base_uri": "https://localhost:8080/",
          "height": 765
        },
        "id": "vv_iGE80UbKR",
        "outputId": "04d6c39c-dd09-4a8e-ff88-f0f57608bd26"
      },
      "execution_count": 11,
      "outputs": [
        {
          "output_type": "display_data",
          "data": {
            "text/plain": [
              "<Figure size 1080x432 with 1 Axes>"
            ],
            "image/png": "[encoded data removed]"
          },
          "metadata": {}
        },
        {
          "output_type": "display_data",
          "data": {
            "text/plain": [
              "<Figure size 1080x432 with 1 Axes>"
            ],
            "image/png": "[encoded data removed]"
          },
          "metadata": {}
        }
      ]
    },
    {
      "cell_type": "code",
      "source": [
        "df['Target'] = df['Target'].replace(('Imposter','Genuine'),(0,1))"
      ],
      "metadata": {
        "id": "823o6vvyszo7"
      },
      "execution_count": 12,
      "outputs": []
    },
    {
      "cell_type": "code",
      "source": [
        "df.head()"
      ],
      "metadata": {
        "colab": {
          "base_uri": "https://localhost:8080/",
          "height": 300
        },
        "id": "vBOfLzdYxwXt",
        "outputId": "66b84022-ffb2-4f43-f992-90923410c9c9"
      },
      "execution_count": 13,
      "outputs": [
        {
          "output_type": "execute_result",
          "data": {
            "text/plain": [
              "     User  H.period  DD.period.t  UD.period.t    H.t  DD.t.i  UD.t.i    H.i  \\\n",
              "0  Nikhil     0.119        0.272        0.153  0.103   0.208   0.105  0.103   \n",
              "1  Nikhil     0.119        0.272        0.153  0.103   0.216   0.113  0.103   \n",
              "2  Nikhil     0.127        0.352        0.225  0.143   0.240   0.097  0.143   \n",
              "3  Nikhil     0.122        0.315        0.193  0.127   0.200   0.073  0.111   \n",
              "4  Nikhil     0.143        0.232        0.089  0.119   0.208   0.089  0.127   \n",
              "\n",
              "   DD.i.e  UD.i.e  ...  DD.a.n  UD.a.n    H.n  DD.n.l  UD.n.l    H.l  \\\n",
              "0   0.288   0.185  ...   0.328   0.225  0.135   0.264   0.129  0.111   \n",
              "1   0.287   0.184  ...   0.312   0.209  0.151   0.272   0.121  0.110   \n",
              "2   0.344   0.201  ...   0.297   0.154  0.150   0.263   0.113  0.127   \n",
              "3   0.400   0.289  ...   0.200   0.089  0.143   0.240   0.097  0.159   \n",
              "4   0.264   0.137  ...   0.184   0.041  0.151   0.224   0.073  0.206   \n",
              "\n",
              "   DD.l.Return  UD.l.Return  H.Return  Target  \n",
              "0        0.311        0.200     0.112       1  \n",
              "1        0.304        0.194     0.151       1  \n",
              "2        0.304        0.177     0.127       1  \n",
              "3        0.176        0.017     0.087       1  \n",
              "4        0.192       -0.014     0.119       1  \n",
              "\n",
              "[5 rows x 33 columns]"
            ],
            "text/html": [
              "\n",
              "  <div id=\"df-bcb91e5b-ed25-42ea-9841-323bd835422f\">\n",
              "    <div class=\"colab-df-container\">\n",
              "      <div>\n",
              "<style scoped>\n",
              "    .dataframe tbody tr th:only-of-type {\n",
              "        vertical-align: middle;\n",
              "    }\n",
              "\n",
              "    .dataframe tbody tr th {\n",
              "        vertical-align: top;\n",
              "    }\n",
              "\n",
              "    .dataframe thead th {\n",
              "        text-align: right;\n",
              "    }\n",
              "</style>\n",
              "<table border=\"1\" class=\"dataframe\">\n",
              "  <thead>\n",
              "    <tr style=\"text-align: right;\">\n",
              "      <th></th>\n",
              "      <th>User</th>\n",
              "      <th>H.period</th>\n",
              "      <th>DD.period.t</th>\n",
              "      <th>UD.period.t</th>\n",
              "      <th>H.t</th>\n",
              "      <th>DD.t.i</th>\n",
              "      <th>UD.t.i</th>\n",
              "      <th>H.i</th>\n",
              "      <th>DD.i.e</th>\n",
              "      <th>UD.i.e</th>\n",
              "      <th>...</th>\n",
              "      <th>DD.a.n</th>\n",
              "      <th>UD.a.n</th>\n",
              "      <th>H.n</th>\n",
              "      <th>DD.n.l</th>\n",
              "      <th>UD.n.l</th>\n",
              "      <th>H.l</th>\n",
              "      <th>DD.l.Return</th>\n",
              "      <th>UD.l.Return</th>\n",
              "      <th>H.Return</th>\n",
              "      <th>Target</th>\n",
              "    </tr>\n",
              "  </thead>\n",
              "  <tbody>\n",
              "    <tr>\n",
              "      <th>0</th>\n",
              "      <td>Nikhil</td>\n",
              "      <td>0.119</td>\n",
              "      <td>0.272</td>\n",
              "      <td>0.153</td>\n",
              "      <td>0.103</td>\n",
              "      <td>0.208</td>\n",
              "      <td>0.105</td>\n",
              "      <td>0.103</td>\n",
              "      <td>0.288</td>\n",
              "      <td>0.185</td>\n",
              "      <td>...</td>\n",
              "      <td>0.328</td>\n",
              "      <td>0.225</td>\n",
              "      <td>0.135</td>\n",
              "      <td>0.264</td>\n",
              "      <td>0.129</td>\n",
              "      <td>0.111</td>\n",
              "      <td>0.311</td>\n",
              "      <td>0.200</td>\n",
              "      <td>0.112</td>\n",
              "      <td>1</td>\n",
              "    </tr>\n",
              "    <tr>\n",
              "      <th>1</th>\n",
              "      <td>Nikhil</td>\n",
              "      <td>0.119</td>\n",
              "      <td>0.272</td>\n",
              "      <td>0.153</td>\n",
              "      <td>0.103</td>\n",
              "      <td>0.216</td>\n",
              "      <td>0.113</td>\n",
              "      <td>0.103</td>\n",
              "      <td>0.287</td>\n",
              "      <td>0.184</td>\n",
              "      <td>...</td>\n",
              "      <td>0.312</td>\n",
              "      <td>0.209</td>\n",
              "      <td>0.151</td>\n",
              "      <td>0.272</td>\n",
              "      <td>0.121</td>\n",
              "      <td>0.110</td>\n",
              "      <td>0.304</td>\n",
              "      <td>0.194</td>\n",
              "      <td>0.151</td>\n",
              "      <td>1</td>\n",
              "    </tr>\n",
              "    <tr>\n",
              "      <th>2</th>\n",
              "      <td>Nikhil</td>\n",
              "      <td>0.127</td>\n",
              "      <td>0.352</td>\n",
              "      <td>0.225</td>\n",
              "      <td>0.143</td>\n",
              "      <td>0.240</td>\n",
              "      <td>0.097</td>\n",
              "      <td>0.143</td>\n",
              "      <td>0.344</td>\n",
              "      <td>0.201</td>\n",
              "      <td>...</td>\n",
              "      <td>0.297</td>\n",
              "      <td>0.154</td>\n",
              "      <td>0.150</td>\n",
              "      <td>0.263</td>\n",
              "      <td>0.113</td>\n",
              "      <td>0.127</td>\n",
              "      <td>0.304</td>\n",
              "      <td>0.177</td>\n",
              "      <td>0.127</td>\n",
              "      <td>1</td>\n",
              "    </tr>\n",
              "    <tr>\n",
              "      <th>3</th>\n",
              "      <td>Nikhil</td>\n",
              "      <td>0.122</td>\n",
              "      <td>0.315</td>\n",
              "      <td>0.193</td>\n",
              "      <td>0.127</td>\n",
              "      <td>0.200</td>\n",
              "      <td>0.073</td>\n",
              "      <td>0.111</td>\n",
              "      <td>0.400</td>\n",
              "      <td>0.289</td>\n",
              "      <td>...</td>\n",
              "      <td>0.200</td>\n",
              "      <td>0.089</td>\n",
              "      <td>0.143</td>\n",
              "      <td>0.240</td>\n",
              "      <td>0.097</td>\n",
              "      <td>0.159</td>\n",
              "      <td>0.176</td>\n",
              "      <td>0.017</td>\n",
              "      <td>0.087</td>\n",
              "      <td>1</td>\n",
              "    </tr>\n",
              "    <tr>\n",
              "      <th>4</th>\n",
              "      <td>Nikhil</td>\n",
              "      <td>0.143</td>\n",
              "      <td>0.232</td>\n",
              "      <td>0.089</td>\n",
              "      <td>0.119</td>\n",
              "      <td>0.208</td>\n",
              "      <td>0.089</td>\n",
              "      <td>0.127</td>\n",
              "      <td>0.264</td>\n",
              "      <td>0.137</td>\n",
              "      <td>...</td>\n",
              "      <td>0.184</td>\n",
              "      <td>0.041</td>\n",
              "      <td>0.151</td>\n",
              "      <td>0.224</td>\n",
              "      <td>0.073</td>\n",
              "      <td>0.206</td>\n",
              "      <td>0.192</td>\n",
              "      <td>-0.014</td>\n",
              "      <td>0.119</td>\n",
              "      <td>1</td>\n",
              "    </tr>\n",
              "  </tbody>\n",
              "</table>\n",
              "<p>5 rows × 33 columns</p>\n",
              "</div>\n",
              "      <button class=\"colab-df-convert\" onclick=\"convertToInteractive('df-bcb91e5b-ed25-42ea-9841-323bd835422f')\"\n",
              "              title=\"Convert this dataframe to an interactive table.\"\n",
              "              style=\"display:none;\">\n",
              "        \n",
              "  <svg xmlns=\"http://www.w3.org/2000/svg\" height=\"24px\"viewBox=\"0 0 24 24\"\n",
              "       width=\"24px\">\n",
              "    <path d=\"M0 0h24v24H0V0z\" fill=\"none\"/>\n",
              "    <path d=\"M18.56 5.44l.94 2.06.94-2.06 2.06-.94-2.06-.94-.94-2.06-.94 2.06-2.06.94zm-11 1L8.5 8.5l.94-2.06 2.06-.94-2.06-.94L8.5 2.5l-.94 2.06-2.06.94zm10 10l.94 2.06.94-2.06 2.06-.94-2.06-.94-.94-2.06-.94 2.06-2.06.94z\"/><path d=\"M17.41 7.96l-1.37-1.37c-.4-.4-.92-.59-1.43-.59-.52 0-1.04.2-1.43.59L10.3 9.45l-7.72 7.72c-.78.78-.78 2.05 0 2.83L4 21.41c.39.39.9.59 1.41.59.51 0 1.02-.2 1.41-.59l7.78-7.78 2.81-2.81c.8-.78.8-2.07 0-2.86zM5.41 20L4 18.59l7.72-7.72 1.47 1.35L5.41 20z\"/>\n",
              "  </svg>\n",
              "      </button>\n",
              "      \n",
              "  <style>\n",
              "    .colab-df-container {\n",
              "      display:flex;\n",
              "      flex-wrap:wrap;\n",
              "      gap: 12px;\n",
              "    }\n",
              "\n",
              "    .colab-df-convert {\n",
              "      background-color: #E8F0FE;\n",
              "      border: none;\n",
              "      border-radius: 50%;\n",
              "      cursor: pointer;\n",
              "      display: none;\n",
              "      fill: #1967D2;\n",
              "      height: 32px;\n",
              "      padding: 0 0 0 0;\n",
              "      width: 32px;\n",
              "    }\n",
              "\n",
              "    .colab-df-convert:hover {\n",
              "      background-color: #E2EBFA;\n",
              "      box-shadow: 0px 1px 2px rgba(60, 64, 67, 0.3), 0px 1px 3px 1px rgba(60, 64, 67, 0.15);\n",
              "      fill: #174EA6;\n",
              "    }\n",
              "\n",
              "    [theme=dark] .colab-df-convert {\n",
              "      background-color: #3B4455;\n",
              "      fill: #D2E3FC;\n",
              "    }\n",
              "\n",
              "    [theme=dark] .colab-df-convert:hover {\n",
              "      background-color: #434B5C;\n",
              "      box-shadow: 0px 1px 3px 1px rgba(0, 0, 0, 0.15);\n",
              "      filter: drop-shadow(0px 1px 2px rgba(0, 0, 0, 0.3));\n",
              "      fill: #FFFFFF;\n",
              "    }\n",
              "  </style>\n",
              "\n",
              "      <script>\n",
              "        const buttonEl =\n",
              "          document.querySelector('#df-bcb91e5b-ed25-42ea-9841-323bd835422f button.colab-df-convert');\n",
              "        buttonEl.style.display =\n",
              "          google.colab.kernel.accessAllowed ? 'block' : 'none';\n",
              "\n",
              "        async function convertToInteractive(key) {\n",
              "          const element = document.querySelector('#df-bcb91e5b-ed25-42ea-9841-323bd835422f');\n",
              "          const dataTable =\n",
              "            await google.colab.kernel.invokeFunction('convertToInteractive',\n",
              "                                                     [key], {});\n",
              "          if (!dataTable) return;\n",
              "\n",
              "          const docLinkHtml = 'Like what you see? Visit the ' +\n",
              "            '<a target=\"_blank\" href=https://colab.research.google.com/notebooks/data_table.ipynb>data table notebook</a>'\n",
              "            + ' to learn more about interactive tables.';\n",
              "          element.innerHTML = '';\n",
              "          dataTable['output_type'] = 'display_data';\n",
              "          await google.colab.output.renderOutput(dataTable, element);\n",
              "          const docLink = document.createElement('div');\n",
              "          docLink.innerHTML = docLinkHtml;\n",
              "          element.appendChild(docLink);\n",
              "        }\n",
              "      </script>\n",
              "    </div>\n",
              "  </div>\n",
              "  "
            ]
          },
          "metadata": {},
          "execution_count": 13
        }
      ]
    },
    {
      "cell_type": "code",
      "source": [
        "usr_num=df['User'].value_counts()\n",
        "print(usr_num)"
      ],
      "metadata": {
        "id": "IR1aFOWRznxv",
        "colab": {
          "base_uri": "https://localhost:8080/"
        },
        "outputId": "ba209208-7814-4832-cb5e-a4639110769e"
      },
      "execution_count": 14,
      "outputs": [
        {
          "output_type": "stream",
          "name": "stdout",
          "text": [
            "Nikhil      710\n",
            "Deepti      225\n",
            "Huy         200\n",
            "Shridhar     50\n",
            "Vikram       38\n",
            "Tarang       33\n",
            "Vishu        33\n",
            "Rohan        25\n",
            "Sushmit      25\n",
            "Abhishek     24\n",
            "Tejas C      23\n",
            "Tejas S      22\n",
            "Rutvik       14\n",
            "Name: User, dtype: int64\n"
          ]
        }
      ]
    },
    {
      "cell_type": "code",
      "source": [
        "df['User'] = df['User'].replace(('Nikhil','Deepti','Huy','Shridhar','Vikram',\n",
        "                                     'Tarang','Vishu','Rohan','Sushmit','Abhishek','Tejas C','Tejas S','Rutvik'),\n",
        "                                    (usr_num[0]/sum(usr_num),usr_num[1]/sum(usr_num),usr_num[2]/sum(usr_num),usr_num[3]/sum(usr_num),\n",
        "                                     usr_num[4]/sum(usr_num),usr_num[5]/sum(usr_num),usr_num[6]/sum(usr_num),\n",
        "                                     usr_num[7]/sum(usr_num),usr_num[8]/sum(usr_num),usr_num[9]/sum(usr_num),usr_num[10]/sum(usr_num),\n",
        "                                     usr_num[11]/sum(usr_num),usr_num[12]/sum(usr_num)))"
      ],
      "metadata": {
        "id": "oI-llqAEOX_e"
      },
      "execution_count": 15,
      "outputs": []
    },
    {
      "cell_type": "markdown",
      "source": [
        "**Note** I assign weights to each user according to counts of their data values."
      ],
      "metadata": {
        "id": "QNpVtbdrQVnr"
      }
    },
    {
      "cell_type": "code",
      "source": [
        "df.info()"
      ],
      "metadata": {
        "colab": {
          "base_uri": "https://localhost:8080/"
        },
        "id": "6fz8OM218xjT",
        "outputId": "faccac0f-0ff2-4145-de4e-5f6adc7b135e"
      },
      "execution_count": 16,
      "outputs": [
        {
          "output_type": "stream",
          "name": "stdout",
          "text": [
            "<class 'pandas.core.frame.DataFrame'>\n",
            "RangeIndex: 1422 entries, 0 to 1421\n",
            "Data columns (total 33 columns):\n",
            " #   Column           Non-Null Count  Dtype  \n",
            "---  ------           --------------  -----  \n",
            " 0   User             1422 non-null   float64\n",
            " 1   H.period         1422 non-null   float64\n",
            " 2   DD.period.t      1422 non-null   float64\n",
            " 3   UD.period.t      1422 non-null   float64\n",
            " 4   H.t              1422 non-null   float64\n",
            " 5   DD.t.i           1422 non-null   float64\n",
            " 6   UD.t.i           1422 non-null   float64\n",
            " 7   H.i              1422 non-null   float64\n",
            " 8   DD.i.e           1422 non-null   float64\n",
            " 9   UD.i.e           1422 non-null   float64\n",
            " 10  H.e              1422 non-null   float64\n",
            " 11  DD.e.five        1422 non-null   float64\n",
            " 12  UD.e.five        1422 non-null   float64\n",
            " 13  H.five           1422 non-null   float64\n",
            " 14  DD.five.Shift.r  1422 non-null   float64\n",
            " 15  UD.five.Shift.r  1422 non-null   float64\n",
            " 16  H.Shift.r        1422 non-null   float64\n",
            " 17  DD.Shift.r.o     1422 non-null   float64\n",
            " 18  UD.Shift.r.o     1422 non-null   float64\n",
            " 19  H.o              1422 non-null   float64\n",
            " 20  DD.o.a           1422 non-null   float64\n",
            " 21  UD.o.a           1422 non-null   float64\n",
            " 22  H.a              1422 non-null   float64\n",
            " 23  DD.a.n           1422 non-null   float64\n",
            " 24  UD.a.n           1422 non-null   float64\n",
            " 25  H.n              1422 non-null   float64\n",
            " 26  DD.n.l           1422 non-null   float64\n",
            " 27  UD.n.l           1422 non-null   float64\n",
            " 28  H.l              1422 non-null   float64\n",
            " 29  DD.l.Return      1422 non-null   float64\n",
            " 30  UD.l.Return      1422 non-null   float64\n",
            " 31  H.Return         1422 non-null   float64\n",
            " 32  Target           1422 non-null   int64  \n",
            "dtypes: float64(32), int64(1)\n",
            "memory usage: 366.7 KB\n"
          ]
        }
      ]
    },
    {
      "cell_type": "code",
      "source": [
        "y= df['Target']\n",
        "x= df= df.drop(['Target'],axis=1)"
      ],
      "metadata": {
        "id": "EN5e_1H59EVs"
      },
      "execution_count": 17,
      "outputs": []
    },
    {
      "cell_type": "code",
      "source": [
        "x.info()"
      ],
      "metadata": {
        "colab": {
          "base_uri": "https://localhost:8080/"
        },
        "id": "9ZWkGUZM9Vit",
        "outputId": "4fa8ab9b-42f1-4a90-a5e5-2579d00390b1"
      },
      "execution_count": 18,
      "outputs": [
        {
          "output_type": "stream",
          "name": "stdout",
          "text": [
            "<class 'pandas.core.frame.DataFrame'>\n",
            "RangeIndex: 1422 entries, 0 to 1421\n",
            "Data columns (total 32 columns):\n",
            " #   Column           Non-Null Count  Dtype  \n",
            "---  ------           --------------  -----  \n",
            " 0   User             1422 non-null   float64\n",
            " 1   H.period         1422 non-null   float64\n",
            " 2   DD.period.t      1422 non-null   float64\n",
            " 3   UD.period.t      1422 non-null   float64\n",
            " 4   H.t              1422 non-null   float64\n",
            " 5   DD.t.i           1422 non-null   float64\n",
            " 6   UD.t.i           1422 non-null   float64\n",
            " 7   H.i              1422 non-null   float64\n",
            " 8   DD.i.e           1422 non-null   float64\n",
            " 9   UD.i.e           1422 non-null   float64\n",
            " 10  H.e              1422 non-null   float64\n",
            " 11  DD.e.five        1422 non-null   float64\n",
            " 12  UD.e.five        1422 non-null   float64\n",
            " 13  H.five           1422 non-null   float64\n",
            " 14  DD.five.Shift.r  1422 non-null   float64\n",
            " 15  UD.five.Shift.r  1422 non-null   float64\n",
            " 16  H.Shift.r        1422 non-null   float64\n",
            " 17  DD.Shift.r.o     1422 non-null   float64\n",
            " 18  UD.Shift.r.o     1422 non-null   float64\n",
            " 19  H.o              1422 non-null   float64\n",
            " 20  DD.o.a           1422 non-null   float64\n",
            " 21  UD.o.a           1422 non-null   float64\n",
            " 22  H.a              1422 non-null   float64\n",
            " 23  DD.a.n           1422 non-null   float64\n",
            " 24  UD.a.n           1422 non-null   float64\n",
            " 25  H.n              1422 non-null   float64\n",
            " 26  DD.n.l           1422 non-null   float64\n",
            " 27  UD.n.l           1422 non-null   float64\n",
            " 28  H.l              1422 non-null   float64\n",
            " 29  DD.l.Return      1422 non-null   float64\n",
            " 30  UD.l.Return      1422 non-null   float64\n",
            " 31  H.Return         1422 non-null   float64\n",
            "dtypes: float64(32)\n",
            "memory usage: 355.6 KB\n"
          ]
        }
      ]
    },
    {
      "cell_type": "markdown",
      "source": [
        "**NOTE**\n",
        "I am going to use **ExtraTreesClassifier** to find the value of importance of each attribute then we will choose 10 attributes with maximum value for training.\n",
        "\n"
      ],
      "metadata": {
        "id": "Tck-nKdWDS0B"
      }
    },
    {
      "cell_type": "code",
      "source": [
        "model = ExtraTreesClassifier(n_estimators=10)\n",
        "model.fit(x, y)\n",
        "a=model.feature_importances_"
      ],
      "metadata": {
        "id": "PeEElNUA98R0"
      },
      "execution_count": 21,
      "outputs": []
    },
    {
      "cell_type": "code",
      "source": [
        "ind = np.argpartition(a, -10)[-10:]\n",
        "print(ind)\n",
        "print(a[ind])"
      ],
      "metadata": {
        "colab": {
          "base_uri": "https://localhost:8080/"
        },
        "id": "BThhCGv0-UWw",
        "outputId": "5f8c7bb6-0380-4abe-cc50-f9f3928ce02d"
      },
      "execution_count": 23,
      "outputs": [
        {
          "output_type": "stream",
          "name": "stdout",
          "text": [
            "[29  7  6  1  2 28 31 18 30  0]\n",
            "[0.01535909 0.01814718 0.0186703  0.03483624 0.02996861 0.02367536\n",
            " 0.03992539 0.13071755 0.04409908 0.57569624]\n"
          ]
        }
      ]
    },
    {
      "cell_type": "markdown",
      "source": [
        "**NOTE**\n",
        "We Find the importance of each feature Now we will choose the 10 feature with highest value of importance.to train our algorithem."
      ],
      "metadata": {
        "id": "4uv_S77fCmNk"
      }
    },
    {
      "cell_type": "code",
      "source": [
        "c=df.columns[ind[0]]\n",
        "b=df[c]\n",
        "train=b\n",
        "for i in range(len(ind)-1):\n",
        "  c=df.columns[ind[i+1]]\n",
        "  b=df[c]\n",
        "  train= pd.concat([train, b], axis = 1)"
      ],
      "metadata": {
        "id": "Rtx9Pdjv-Z3R"
      },
      "execution_count": 24,
      "outputs": []
    },
    {
      "cell_type": "code",
      "source": [
        "train = train.drop(['User'],axis=1)"
      ],
      "metadata": {
        "id": "xCGLdl6W-62B"
      },
      "execution_count": 25,
      "outputs": []
    },
    {
      "cell_type": "markdown",
      "source": [
        "Removing **users** from training data."
      ],
      "metadata": {
        "id": "QZlEUDJ6ZU-u"
      }
    },
    {
      "cell_type": "code",
      "source": [
        "train.head()"
      ],
      "metadata": {
        "colab": {
          "base_uri": "https://localhost:8080/",
          "height": 206
        },
        "id": "fzgrOm3oZR55",
        "outputId": "33cafece-be23-4c49-99b3-297fe1e63e53"
      },
      "execution_count": 26,
      "outputs": [
        {
          "output_type": "execute_result",
          "data": {
            "text/plain": [
              "   DD.l.Return    H.i  UD.t.i  H.period  DD.period.t    H.l  H.Return  \\\n",
              "0        0.311  0.103   0.105     0.119        0.272  0.111     0.112   \n",
              "1        0.304  0.103   0.113     0.119        0.272  0.110     0.151   \n",
              "2        0.304  0.143   0.097     0.127        0.352  0.127     0.127   \n",
              "3        0.176  0.111   0.073     0.122        0.315  0.159     0.087   \n",
              "4        0.192  0.127   0.089     0.143        0.232  0.206     0.119   \n",
              "\n",
              "   UD.Shift.r.o  UD.l.Return  \n",
              "0        -0.055        0.200  \n",
              "1        -0.064        0.194  \n",
              "2        -0.071        0.177  \n",
              "3        -0.055        0.017  \n",
              "4        -0.063       -0.014  "
            ],
            "text/html": [
              "\n",
              "  <div id=\"df-880cf91d-6cf1-44e7-bfc6-39db44cfe704\">\n",
              "    <div class=\"colab-df-container\">\n",
              "      <div>\n",
              "<style scoped>\n",
              "    .dataframe tbody tr th:only-of-type {\n",
              "        vertical-align: middle;\n",
              "    }\n",
              "\n",
              "    .dataframe tbody tr th {\n",
              "        vertical-align: top;\n",
              "    }\n",
              "\n",
              "    .dataframe thead th {\n",
              "        text-align: right;\n",
              "    }\n",
              "</style>\n",
              "<table border=\"1\" class=\"dataframe\">\n",
              "  <thead>\n",
              "    <tr style=\"text-align: right;\">\n",
              "      <th></th>\n",
              "      <th>DD.l.Return</th>\n",
              "      <th>H.i</th>\n",
              "      <th>UD.t.i</th>\n",
              "      <th>H.period</th>\n",
              "      <th>DD.period.t</th>\n",
              "      <th>H.l</th>\n",
              "      <th>H.Return</th>\n",
              "      <th>UD.Shift.r.o</th>\n",
              "      <th>UD.l.Return</th>\n",
              "    </tr>\n",
              "  </thead>\n",
              "  <tbody>\n",
              "    <tr>\n",
              "      <th>0</th>\n",
              "      <td>0.311</td>\n",
              "      <td>0.103</td>\n",
              "      <td>0.105</td>\n",
              "      <td>0.119</td>\n",
              "      <td>0.272</td>\n",
              "      <td>0.111</td>\n",
              "      <td>0.112</td>\n",
              "      <td>-0.055</td>\n",
              "      <td>0.200</td>\n",
              "    </tr>\n",
              "    <tr>\n",
              "      <th>1</th>\n",
              "      <td>0.304</td>\n",
              "      <td>0.103</td>\n",
              "      <td>0.113</td>\n",
              "      <td>0.119</td>\n",
              "      <td>0.272</td>\n",
              "      <td>0.110</td>\n",
              "      <td>0.151</td>\n",
              "      <td>-0.064</td>\n",
              "      <td>0.194</td>\n",
              "    </tr>\n",
              "    <tr>\n",
              "      <th>2</th>\n",
              "      <td>0.304</td>\n",
              "      <td>0.143</td>\n",
              "      <td>0.097</td>\n",
              "      <td>0.127</td>\n",
              "      <td>0.352</td>\n",
              "      <td>0.127</td>\n",
              "      <td>0.127</td>\n",
              "      <td>-0.071</td>\n",
              "      <td>0.177</td>\n",
              "    </tr>\n",
              "    <tr>\n",
              "      <th>3</th>\n",
              "      <td>0.176</td>\n",
              "      <td>0.111</td>\n",
              "      <td>0.073</td>\n",
              "      <td>0.122</td>\n",
              "      <td>0.315</td>\n",
              "      <td>0.159</td>\n",
              "      <td>0.087</td>\n",
              "      <td>-0.055</td>\n",
              "      <td>0.017</td>\n",
              "    </tr>\n",
              "    <tr>\n",
              "      <th>4</th>\n",
              "      <td>0.192</td>\n",
              "      <td>0.127</td>\n",
              "      <td>0.089</td>\n",
              "      <td>0.143</td>\n",
              "      <td>0.232</td>\n",
              "      <td>0.206</td>\n",
              "      <td>0.119</td>\n",
              "      <td>-0.063</td>\n",
              "      <td>-0.014</td>\n",
              "    </tr>\n",
              "  </tbody>\n",
              "</table>\n",
              "</div>\n",
              "      <button class=\"colab-df-convert\" onclick=\"convertToInteractive('df-880cf91d-6cf1-44e7-bfc6-39db44cfe704')\"\n",
              "              title=\"Convert this dataframe to an interactive table.\"\n",
              "              style=\"display:none;\">\n",
              "        \n",
              "  <svg xmlns=\"http://www.w3.org/2000/svg\" height=\"24px\"viewBox=\"0 0 24 24\"\n",
              "       width=\"24px\">\n",
              "    <path d=\"M0 0h24v24H0V0z\" fill=\"none\"/>\n",
              "    <path d=\"M18.56 5.44l.94 2.06.94-2.06 2.06-.94-2.06-.94-.94-2.06-.94 2.06-2.06.94zm-11 1L8.5 8.5l.94-2.06 2.06-.94-2.06-.94L8.5 2.5l-.94 2.06-2.06.94zm10 10l.94 2.06.94-2.06 2.06-.94-2.06-.94-.94-2.06-.94 2.06-2.06.94z\"/><path d=\"M17.41 7.96l-1.37-1.37c-.4-.4-.92-.59-1.43-.59-.52 0-1.04.2-1.43.59L10.3 9.45l-7.72 7.72c-.78.78-.78 2.05 0 2.83L4 21.41c.39.39.9.59 1.41.59.51 0 1.02-.2 1.41-.59l7.78-7.78 2.81-2.81c.8-.78.8-2.07 0-2.86zM5.41 20L4 18.59l7.72-7.72 1.47 1.35L5.41 20z\"/>\n",
              "  </svg>\n",
              "      </button>\n",
              "      \n",
              "  <style>\n",
              "    .colab-df-container {\n",
              "      display:flex;\n",
              "      flex-wrap:wrap;\n",
              "      gap: 12px;\n",
              "    }\n",
              "\n",
              "    .colab-df-convert {\n",
              "      background-color: #E8F0FE;\n",
              "      border: none;\n",
              "      border-radius: 50%;\n",
              "      cursor: pointer;\n",
              "      display: none;\n",
              "      fill: #1967D2;\n",
              "      height: 32px;\n",
              "      padding: 0 0 0 0;\n",
              "      width: 32px;\n",
              "    }\n",
              "\n",
              "    .colab-df-convert:hover {\n",
              "      background-color: #E2EBFA;\n",
              "      box-shadow: 0px 1px 2px rgba(60, 64, 67, 0.3), 0px 1px 3px 1px rgba(60, 64, 67, 0.15);\n",
              "      fill: #174EA6;\n",
              "    }\n",
              "\n",
              "    [theme=dark] .colab-df-convert {\n",
              "      background-color: #3B4455;\n",
              "      fill: #D2E3FC;\n",
              "    }\n",
              "\n",
              "    [theme=dark] .colab-df-convert:hover {\n",
              "      background-color: #434B5C;\n",
              "      box-shadow: 0px 1px 3px 1px rgba(0, 0, 0, 0.15);\n",
              "      filter: drop-shadow(0px 1px 2px rgba(0, 0, 0, 0.3));\n",
              "      fill: #FFFFFF;\n",
              "    }\n",
              "  </style>\n",
              "\n",
              "      <script>\n",
              "        const buttonEl =\n",
              "          document.querySelector('#df-880cf91d-6cf1-44e7-bfc6-39db44cfe704 button.colab-df-convert');\n",
              "        buttonEl.style.display =\n",
              "          google.colab.kernel.accessAllowed ? 'block' : 'none';\n",
              "\n",
              "        async function convertToInteractive(key) {\n",
              "          const element = document.querySelector('#df-880cf91d-6cf1-44e7-bfc6-39db44cfe704');\n",
              "          const dataTable =\n",
              "            await google.colab.kernel.invokeFunction('convertToInteractive',\n",
              "                                                     [key], {});\n",
              "          if (!dataTable) return;\n",
              "\n",
              "          const docLinkHtml = 'Like what you see? Visit the ' +\n",
              "            '<a target=\"_blank\" href=https://colab.research.google.com/notebooks/data_table.ipynb>data table notebook</a>'\n",
              "            + ' to learn more about interactive tables.';\n",
              "          element.innerHTML = '';\n",
              "          dataTable['output_type'] = 'display_data';\n",
              "          await google.colab.output.renderOutput(dataTable, element);\n",
              "          const docLink = document.createElement('div');\n",
              "          docLink.innerHTML = docLinkHtml;\n",
              "          element.appendChild(docLink);\n",
              "        }\n",
              "      </script>\n",
              "    </div>\n",
              "  </div>\n",
              "  "
            ]
          },
          "metadata": {},
          "execution_count": 26
        }
      ]
    },
    {
      "cell_type": "markdown",
      "source": [
        "**Note**\n",
        " These are our Most Important attribute on which we train our algorithem."
      ],
      "metadata": {
        "id": "tNf0PALXGbQT"
      }
    },
    {
      "cell_type": "code",
      "source": [
        "models =[\"SVM\",\"Naive Bais\",\"GradientBoosting\",\"DecisionTree\",\"KNN\",\" Logistic Regression\",\"Random Forest\"]\n",
        "acc_sc=[]"
      ],
      "metadata": {
        "id": "d292VuldqItD"
      },
      "execution_count": 27,
      "outputs": []
    },
    {
      "cell_type": "code",
      "source": [
        "X_train, X_test, y_train, y_test = train_test_split(train,y,test_size = 0.30, random_state = 32)\n",
        "model = SVC()\n",
        "model.fit(X_train, y_train)\n",
        "# print prediction results\n",
        "predictions = model.predict(X_test)\n",
        "print(classification_report(y_test, predictions))"
      ],
      "metadata": {
        "colab": {
          "base_uri": "https://localhost:8080/"
        },
        "id": "etPNl4FxGrMV",
        "outputId": "ac98c8b4-36cb-43c5-d04e-a61d727b3f69"
      },
      "execution_count": 28,
      "outputs": [
        {
          "output_type": "stream",
          "name": "stdout",
          "text": [
            "              precision    recall  f1-score   support\n",
            "\n",
            "           0       0.98      0.99      0.98       207\n",
            "           1       0.99      0.98      0.98       220\n",
            "\n",
            "    accuracy                           0.98       427\n",
            "   macro avg       0.98      0.98      0.98       427\n",
            "weighted avg       0.98      0.98      0.98       427\n",
            "\n"
          ]
        }
      ]
    },
    {
      "cell_type": "markdown",
      "source": [
        "**Note**\n",
        "Our Accuracy is truns out to be 100% using svm "
      ],
      "metadata": {
        "id": "2c9boGEFJ1Wd"
      }
    },
    {
      "cell_type": "code",
      "source": [
        "# defining parameter range\n",
        "param_grid = {'C': [0.1, 1, 10, 100, 1000],\n",
        "              'gamma': [1, 0.1, 0.01, 0.001, 0.0001],\n",
        "              'kernel': ['rbf']}\n",
        " \n",
        "grid = GridSearchCV(SVC(), param_grid, refit = True, verbose = 3)\n",
        " \n",
        "# fitting the model for grid search\n",
        "grid.fit(X_train, y_train)"
      ],
      "metadata": {
        "colab": {
          "base_uri": "https://localhost:8080/"
        },
        "id": "BGbks8zYJvld",
        "outputId": "5a12c0ee-f457-4e26-f429-261806da7381"
      },
      "execution_count": 29,
      "outputs": [
        {
          "output_type": "stream",
          "name": "stdout",
          "text": [
            "Fitting 5 folds for each of 25 candidates, totalling 125 fits\n",
            "[CV 1/5] END ........C=0.1, gamma=1, kernel=rbf;, score=0.899 total time=   0.0s\n",
            "[CV 2/5] END ........C=0.1, gamma=1, kernel=rbf;, score=0.899 total time=   0.0s\n",
            "[CV 3/5] END ........C=0.1, gamma=1, kernel=rbf;, score=0.869 total time=   0.0s\n",
            "[CV 4/5] END ........C=0.1, gamma=1, kernel=rbf;, score=0.874 total time=   0.0s\n",
            "[CV 5/5] END ........C=0.1, gamma=1, kernel=rbf;, score=0.879 total time=   0.0s\n",
            "[CV 1/5] END ......C=0.1, gamma=0.1, kernel=rbf;, score=0.769 total time=   0.1s\n",
            "[CV 2/5] END ......C=0.1, gamma=0.1, kernel=rbf;, score=0.809 total time=   0.0s\n",
            "[CV 3/5] END ......C=0.1, gamma=0.1, kernel=rbf;, score=0.759 total time=   0.0s\n",
            "[CV 4/5] END ......C=0.1, gamma=0.1, kernel=rbf;, score=0.819 total time=   0.0s\n",
            "[CV 5/5] END ......C=0.1, gamma=0.1, kernel=rbf;, score=0.779 total time=   0.0s\n",
            "[CV 1/5] END .....C=0.1, gamma=0.01, kernel=rbf;, score=0.508 total time=   0.1s\n",
            "[CV 2/5] END .....C=0.1, gamma=0.01, kernel=rbf;, score=0.508 total time=   0.0s\n",
            "[CV 3/5] END .....C=0.1, gamma=0.01, kernel=rbf;, score=0.508 total time=   0.0s\n",
            "[CV 4/5] END .....C=0.1, gamma=0.01, kernel=rbf;, score=0.508 total time=   0.0s\n",
            "[CV 5/5] END .....C=0.1, gamma=0.01, kernel=rbf;, score=0.508 total time=   0.0s\n",
            "[CV 1/5] END ....C=0.1, gamma=0.001, kernel=rbf;, score=0.508 total time=   0.1s\n",
            "[CV 2/5] END ....C=0.1, gamma=0.001, kernel=rbf;, score=0.508 total time=   0.0s\n",
            "[CV 3/5] END ....C=0.1, gamma=0.001, kernel=rbf;, score=0.508 total time=   0.0s\n",
            "[CV 4/5] END ....C=0.1, gamma=0.001, kernel=rbf;, score=0.508 total time=   0.0s\n",
            "[CV 5/5] END ....C=0.1, gamma=0.001, kernel=rbf;, score=0.508 total time=   0.0s\n",
            "[CV 1/5] END ...C=0.1, gamma=0.0001, kernel=rbf;, score=0.508 total time=   0.1s\n",
            "[CV 2/5] END ...C=0.1, gamma=0.0001, kernel=rbf;, score=0.508 total time=   0.0s\n",
            "[CV 3/5] END ...C=0.1, gamma=0.0001, kernel=rbf;, score=0.508 total time=   0.1s\n",
            "[CV 4/5] END ...C=0.1, gamma=0.0001, kernel=rbf;, score=0.508 total time=   0.0s\n",
            "[CV 5/5] END ...C=0.1, gamma=0.0001, kernel=rbf;, score=0.508 total time=   0.1s\n",
            "[CV 1/5] END ..........C=1, gamma=1, kernel=rbf;, score=0.955 total time=   0.0s\n",
            "[CV 2/5] END ..........C=1, gamma=1, kernel=rbf;, score=0.970 total time=   0.0s\n",
            "[CV 3/5] END ..........C=1, gamma=1, kernel=rbf;, score=0.965 total time=   0.0s\n",
            "[CV 4/5] END ..........C=1, gamma=1, kernel=rbf;, score=0.960 total time=   0.0s\n",
            "[CV 5/5] END ..........C=1, gamma=1, kernel=rbf;, score=0.980 total time=   0.0s\n",
            "[CV 1/5] END ........C=1, gamma=0.1, kernel=rbf;, score=0.899 total time=   0.0s\n",
            "[CV 2/5] END ........C=1, gamma=0.1, kernel=rbf;, score=0.884 total time=   0.0s\n",
            "[CV 3/5] END ........C=1, gamma=0.1, kernel=rbf;, score=0.864 total time=   0.0s\n",
            "[CV 4/5] END ........C=1, gamma=0.1, kernel=rbf;, score=0.874 total time=   0.0s\n",
            "[CV 5/5] END ........C=1, gamma=0.1, kernel=rbf;, score=0.879 total time=   0.0s\n",
            "[CV 1/5] END .......C=1, gamma=0.01, kernel=rbf;, score=0.734 total time=   0.1s\n",
            "[CV 2/5] END .......C=1, gamma=0.01, kernel=rbf;, score=0.769 total time=   0.0s\n",
            "[CV 3/5] END .......C=1, gamma=0.01, kernel=rbf;, score=0.744 total time=   0.0s\n",
            "[CV 4/5] END .......C=1, gamma=0.01, kernel=rbf;, score=0.804 total time=   0.1s\n",
            "[CV 5/5] END .......C=1, gamma=0.01, kernel=rbf;, score=0.764 total time=   0.0s\n",
            "[CV 1/5] END ......C=1, gamma=0.001, kernel=rbf;, score=0.508 total time=   0.0s\n",
            "[CV 2/5] END ......C=1, gamma=0.001, kernel=rbf;, score=0.508 total time=   0.0s\n",
            "[CV 3/5] END ......C=1, gamma=0.001, kernel=rbf;, score=0.508 total time=   0.0s\n",
            "[CV 4/5] END ......C=1, gamma=0.001, kernel=rbf;, score=0.508 total time=   0.1s\n",
            "[CV 5/5] END ......C=1, gamma=0.001, kernel=rbf;, score=0.508 total time=   0.0s\n",
            "[CV 1/5] END .....C=1, gamma=0.0001, kernel=rbf;, score=0.508 total time=   0.0s\n",
            "[CV 2/5] END .....C=1, gamma=0.0001, kernel=rbf;, score=0.508 total time=   0.0s\n",
            "[CV 3/5] END .....C=1, gamma=0.0001, kernel=rbf;, score=0.508 total time=   0.1s\n",
            "[CV 4/5] END .....C=1, gamma=0.0001, kernel=rbf;, score=0.508 total time=   0.0s\n",
            "[CV 5/5] END .....C=1, gamma=0.0001, kernel=rbf;, score=0.508 total time=   0.0s\n",
            "[CV 1/5] END .........C=10, gamma=1, kernel=rbf;, score=0.960 total time=   0.0s\n",
            "[CV 2/5] END .........C=10, gamma=1, kernel=rbf;, score=0.980 total time=   0.0s\n",
            "[CV 3/5] END .........C=10, gamma=1, kernel=rbf;, score=0.980 total time=   0.0s\n",
            "[CV 4/5] END .........C=10, gamma=1, kernel=rbf;, score=0.980 total time=   0.0s\n",
            "[CV 5/5] END .........C=10, gamma=1, kernel=rbf;, score=0.970 total time=   0.0s\n",
            "[CV 1/5] END .......C=10, gamma=0.1, kernel=rbf;, score=0.950 total time=   0.0s\n",
            "[CV 2/5] END .......C=10, gamma=0.1, kernel=rbf;, score=0.970 total time=   0.0s\n",
            "[CV 3/5] END .......C=10, gamma=0.1, kernel=rbf;, score=0.935 total time=   0.0s\n",
            "[CV 4/5] END .......C=10, gamma=0.1, kernel=rbf;, score=0.945 total time=   0.0s\n",
            "[CV 5/5] END .......C=10, gamma=0.1, kernel=rbf;, score=0.980 total time=   0.0s\n",
            "[CV 1/5] END ......C=10, gamma=0.01, kernel=rbf;, score=0.905 total time=   0.0s\n",
            "[CV 2/5] END ......C=10, gamma=0.01, kernel=rbf;, score=0.884 total time=   0.0s\n",
            "[CV 3/5] END ......C=10, gamma=0.01, kernel=rbf;, score=0.864 total time=   0.0s\n",
            "[CV 4/5] END ......C=10, gamma=0.01, kernel=rbf;, score=0.874 total time=   0.0s\n",
            "[CV 5/5] END ......C=10, gamma=0.01, kernel=rbf;, score=0.879 total time=   0.0s\n",
            "[CV 1/5] END .....C=10, gamma=0.001, kernel=rbf;, score=0.734 total time=   0.0s\n",
            "[CV 2/5] END .....C=10, gamma=0.001, kernel=rbf;, score=0.769 total time=   0.0s\n",
            "[CV 3/5] END .....C=10, gamma=0.001, kernel=rbf;, score=0.744 total time=   0.0s\n",
            "[CV 4/5] END .....C=10, gamma=0.001, kernel=rbf;, score=0.799 total time=   0.0s\n",
            "[CV 5/5] END .....C=10, gamma=0.001, kernel=rbf;, score=0.764 total time=   0.1s\n",
            "[CV 1/5] END ....C=10, gamma=0.0001, kernel=rbf;, score=0.508 total time=   0.0s\n",
            "[CV 2/5] END ....C=10, gamma=0.0001, kernel=rbf;, score=0.508 total time=   0.0s\n",
            "[CV 3/5] END ....C=10, gamma=0.0001, kernel=rbf;, score=0.508 total time=   0.1s\n",
            "[CV 4/5] END ....C=10, gamma=0.0001, kernel=rbf;, score=0.508 total time=   0.0s\n",
            "[CV 5/5] END ....C=10, gamma=0.0001, kernel=rbf;, score=0.508 total time=   0.1s\n",
            "[CV 1/5] END ........C=100, gamma=1, kernel=rbf;, score=0.980 total time=   0.0s\n",
            "[CV 2/5] END ........C=100, gamma=1, kernel=rbf;, score=0.985 total time=   0.0s\n",
            "[CV 3/5] END ........C=100, gamma=1, kernel=rbf;, score=0.980 total time=   0.0s\n",
            "[CV 4/5] END ........C=100, gamma=1, kernel=rbf;, score=0.980 total time=   0.0s\n",
            "[CV 5/5] END ........C=100, gamma=1, kernel=rbf;, score=0.965 total time=   0.0s\n",
            "[CV 1/5] END ......C=100, gamma=0.1, kernel=rbf;, score=0.970 total time=   0.0s\n",
            "[CV 2/5] END ......C=100, gamma=0.1, kernel=rbf;, score=0.970 total time=   0.0s\n",
            "[CV 3/5] END ......C=100, gamma=0.1, kernel=rbf;, score=0.975 total time=   0.0s\n",
            "[CV 4/5] END ......C=100, gamma=0.1, kernel=rbf;, score=0.965 total time=   0.0s\n",
            "[CV 5/5] END ......C=100, gamma=0.1, kernel=rbf;, score=0.975 total time=   0.0s\n",
            "[CV 1/5] END .....C=100, gamma=0.01, kernel=rbf;, score=0.945 total time=   0.0s\n",
            "[CV 2/5] END .....C=100, gamma=0.01, kernel=rbf;, score=0.965 total time=   0.0s\n",
            "[CV 3/5] END .....C=100, gamma=0.01, kernel=rbf;, score=0.925 total time=   0.0s\n",
            "[CV 4/5] END .....C=100, gamma=0.01, kernel=rbf;, score=0.950 total time=   0.0s\n",
            "[CV 5/5] END .....C=100, gamma=0.01, kernel=rbf;, score=0.980 total time=   0.0s\n",
            "[CV 1/5] END ....C=100, gamma=0.001, kernel=rbf;, score=0.899 total time=   0.0s\n",
            "[CV 2/5] END ....C=100, gamma=0.001, kernel=rbf;, score=0.879 total time=   0.0s\n",
            "[CV 3/5] END ....C=100, gamma=0.001, kernel=rbf;, score=0.864 total time=   0.0s\n",
            "[CV 4/5] END ....C=100, gamma=0.001, kernel=rbf;, score=0.874 total time=   0.0s\n",
            "[CV 5/5] END ....C=100, gamma=0.001, kernel=rbf;, score=0.879 total time=   0.0s\n",
            "[CV 1/5] END ...C=100, gamma=0.0001, kernel=rbf;, score=0.734 total time=   0.1s\n",
            "[CV 2/5] END ...C=100, gamma=0.0001, kernel=rbf;, score=0.769 total time=   0.0s\n",
            "[CV 3/5] END ...C=100, gamma=0.0001, kernel=rbf;, score=0.744 total time=   0.0s\n",
            "[CV 4/5] END ...C=100, gamma=0.0001, kernel=rbf;, score=0.799 total time=   0.0s\n",
            "[CV 5/5] END ...C=100, gamma=0.0001, kernel=rbf;, score=0.764 total time=   0.0s\n",
            "[CV 1/5] END .......C=1000, gamma=1, kernel=rbf;, score=0.975 total time=   0.0s\n",
            "[CV 2/5] END .......C=1000, gamma=1, kernel=rbf;, score=0.990 total time=   0.0s\n",
            "[CV 3/5] END .......C=1000, gamma=1, kernel=rbf;, score=0.985 total time=   0.0s\n",
            "[CV 4/5] END .......C=1000, gamma=1, kernel=rbf;, score=0.975 total time=   0.0s\n",
            "[CV 5/5] END .......C=1000, gamma=1, kernel=rbf;, score=0.980 total time=   0.0s\n",
            "[CV 1/5] END .....C=1000, gamma=0.1, kernel=rbf;, score=0.970 total time=   0.0s\n",
            "[CV 2/5] END .....C=1000, gamma=0.1, kernel=rbf;, score=0.975 total time=   0.0s\n",
            "[CV 3/5] END .....C=1000, gamma=0.1, kernel=rbf;, score=0.980 total time=   0.0s\n",
            "[CV 4/5] END .....C=1000, gamma=0.1, kernel=rbf;, score=0.975 total time=   0.0s\n",
            "[CV 5/5] END .....C=1000, gamma=0.1, kernel=rbf;, score=0.980 total time=   0.0s\n",
            "[CV 1/5] END ....C=1000, gamma=0.01, kernel=rbf;, score=0.970 total time=   0.0s\n",
            "[CV 2/5] END ....C=1000, gamma=0.01, kernel=rbf;, score=0.965 total time=   0.0s\n",
            "[CV 3/5] END ....C=1000, gamma=0.01, kernel=rbf;, score=0.965 total time=   0.0s\n",
            "[CV 4/5] END ....C=1000, gamma=0.01, kernel=rbf;, score=0.965 total time=   0.0s\n",
            "[CV 5/5] END ....C=1000, gamma=0.01, kernel=rbf;, score=0.980 total time=   0.0s\n",
            "[CV 1/5] END ...C=1000, gamma=0.001, kernel=rbf;, score=0.945 total time=   0.0s\n",
            "[CV 2/5] END ...C=1000, gamma=0.001, kernel=rbf;, score=0.960 total time=   0.0s\n",
            "[CV 3/5] END ...C=1000, gamma=0.001, kernel=rbf;, score=0.925 total time=   0.0s\n",
            "[CV 4/5] END ...C=1000, gamma=0.001, kernel=rbf;, score=0.950 total time=   0.0s\n",
            "[CV 5/5] END ...C=1000, gamma=0.001, kernel=rbf;, score=0.980 total time=   0.0s\n",
            "[CV 1/5] END ..C=1000, gamma=0.0001, kernel=rbf;, score=0.905 total time=   0.0s\n",
            "[CV 2/5] END ..C=1000, gamma=0.0001, kernel=rbf;, score=0.879 total time=   0.0s\n",
            "[CV 3/5] END ..C=1000, gamma=0.0001, kernel=rbf;, score=0.864 total time=   0.0s\n",
            "[CV 4/5] END ..C=1000, gamma=0.0001, kernel=rbf;, score=0.874 total time=   0.0s\n",
            "[CV 5/5] END ..C=1000, gamma=0.0001, kernel=rbf;, score=0.879 total time=   0.0s\n"
          ]
        },
        {
          "output_type": "execute_result",
          "data": {
            "text/plain": [
              "GridSearchCV(estimator=SVC(),\n",
              "             param_grid={'C': [0.1, 1, 10, 100, 1000],\n",
              "                         'gamma': [1, 0.1, 0.01, 0.001, 0.0001],\n",
              "                         'kernel': ['rbf']},\n",
              "             verbose=3)"
            ]
          },
          "metadata": {},
          "execution_count": 29
        }
      ]
    },
    {
      "cell_type": "code",
      "source": [
        "# print best parameter after tuning\n",
        "print(grid.best_params_)\n",
        " \n",
        "# print how our model looks after hyper-parameter tuning\n",
        "print(grid.best_estimator_)"
      ],
      "metadata": {
        "colab": {
          "base_uri": "https://localhost:8080/"
        },
        "id": "zhDduhQLOlyt",
        "outputId": "b8382aa5-95a5-4b0c-a60a-9c43ee81f26a"
      },
      "execution_count": 30,
      "outputs": [
        {
          "output_type": "stream",
          "name": "stdout",
          "text": [
            "{'C': 1000, 'gamma': 1, 'kernel': 'rbf'}\n",
            "SVC(C=1000, gamma=1)\n"
          ]
        }
      ]
    },
    {
      "cell_type": "code",
      "source": [
        "grid_predictions = grid.predict(X_test)\n",
        "# print classification report\n",
        "acc_sc.append(accuracy_score(y_test,grid_predictions))\n",
        "print(classification_report(y_test, grid_predictions))"
      ],
      "metadata": {
        "colab": {
          "base_uri": "https://localhost:8080/"
        },
        "id": "TkBOOPq2OvvV",
        "outputId": "233dbb41-8e3e-4104-b1d0-f93942fc476b"
      },
      "execution_count": 31,
      "outputs": [
        {
          "output_type": "stream",
          "name": "stdout",
          "text": [
            "              precision    recall  f1-score   support\n",
            "\n",
            "           0       0.99      1.00      0.99       207\n",
            "           1       1.00      0.99      0.99       220\n",
            "\n",
            "    accuracy                           0.99       427\n",
            "   macro avg       0.99      0.99      0.99       427\n",
            "weighted avg       0.99      0.99      0.99       427\n",
            "\n"
          ]
        }
      ]
    },
    {
      "cell_type": "markdown",
      "source": [
        "Accuracy of **SVM** is 99%"
      ],
      "metadata": {
        "id": "FPEgqPNLZjXU"
      }
    },
    {
      "cell_type": "code",
      "source": [
        "param_grid_nb = {\n",
        "    'var_smoothing': np.logspace(0,-9, num=100)\n",
        "}\n",
        "nbModel_grid = GridSearchCV(estimator=GaussianNB(), param_grid= param_grid_nb, verbose=1, cv=10, n_jobs=-1) "
      ],
      "metadata": {
        "id": "ynm56JbRO2Pq"
      },
      "execution_count": 32,
      "outputs": []
    },
    {
      "cell_type": "code",
      "source": [
        "nbModel_grid.fit(X_train, y_train)\n",
        "print(nbModel_grid.best_estimator_)"
      ],
      "metadata": {
        "colab": {
          "base_uri": "https://localhost:8080/"
        },
        "id": "1VPLRal3R01Y",
        "outputId": "a4b5c11f-eee7-4c4c-c401-951405b9a8b1"
      },
      "execution_count": 33,
      "outputs": [
        {
          "output_type": "stream",
          "name": "stdout",
          "text": [
            "Fitting 10 folds for each of 100 candidates, totalling 1000 fits\n",
            "GaussianNB(var_smoothing=0.0006579332246575676)\n"
          ]
        }
      ]
    },
    {
      "cell_type": "code",
      "source": [
        "y_pred = nbModel_grid.predict(X_test)\n",
        "acc_sc.append(accuracy_score(y_test,y_pred))"
      ],
      "metadata": {
        "id": "5l5du4RoSD3u"
      },
      "execution_count": 34,
      "outputs": []
    },
    {
      "cell_type": "code",
      "source": [
        "print(classification_report(y_test,y_pred))"
      ],
      "metadata": {
        "colab": {
          "base_uri": "https://localhost:8080/"
        },
        "id": "JOt1AWJUSKCX",
        "outputId": "1517d55a-2f65-42e4-e80b-31dc7dc777ad"
      },
      "execution_count": 35,
      "outputs": [
        {
          "output_type": "stream",
          "name": "stdout",
          "text": [
            "              precision    recall  f1-score   support\n",
            "\n",
            "           0       0.96      0.93      0.95       207\n",
            "           1       0.94      0.97      0.95       220\n",
            "\n",
            "    accuracy                           0.95       427\n",
            "   macro avg       0.95      0.95      0.95       427\n",
            "weighted avg       0.95      0.95      0.95       427\n",
            "\n"
          ]
        }
      ]
    },
    {
      "cell_type": "markdown",
      "source": [
        "**Note**\n",
        "The Accuracy of Naive Bais is also comes out to be 95% "
      ],
      "metadata": {
        "id": "BZM8bceESP6O"
      }
    },
    {
      "cell_type": "code",
      "source": [
        "gbc = GradientBoostingClassifier()\n",
        "parameters = {\n",
        "    \"n_estimators\":[5,50,250,500],\n",
        "    \"max_depth\":[1,3,5,7,9],\n",
        "    \"learning_rate\":[0.01,0.1,1,10,100]\n",
        "}"
      ],
      "metadata": {
        "id": "jeKtTaz7Se4F"
      },
      "execution_count": 36,
      "outputs": []
    },
    {
      "cell_type": "code",
      "source": [
        "cv = GridSearchCV(gbc,parameters,cv=5)\n",
        "cv.fit(X_train,y_train.values.ravel())"
      ],
      "metadata": {
        "colab": {
          "base_uri": "https://localhost:8080/"
        },
        "id": "wmoroaG6Toyx",
        "outputId": "1f43c334-4781-40ae-ae41-b2ac81bee5a3"
      },
      "execution_count": 37,
      "outputs": [
        {
          "output_type": "execute_result",
          "data": {
            "text/plain": [
              "GridSearchCV(cv=5, estimator=GradientBoostingClassifier(),\n",
              "             param_grid={'learning_rate': [0.01, 0.1, 1, 10, 100],\n",
              "                         'max_depth': [1, 3, 5, 7, 9],\n",
              "                         'n_estimators': [5, 50, 250, 500]})"
            ]
          },
          "metadata": {},
          "execution_count": 37
        }
      ]
    },
    {
      "cell_type": "code",
      "source": [
        "y_pred= cv.predict(X_test)\n",
        "acc_sc.append(accuracy_score(y_test,y_pred))\n",
        "print((classification_report(y_test,y_pred)))"
      ],
      "metadata": {
        "colab": {
          "base_uri": "https://localhost:8080/"
        },
        "id": "rKixkO3TUDNZ",
        "outputId": "00af041e-d40a-4c4c-a60c-64aa2fd71a6a"
      },
      "execution_count": 38,
      "outputs": [
        {
          "output_type": "stream",
          "name": "stdout",
          "text": [
            "              precision    recall  f1-score   support\n",
            "\n",
            "           0       0.99      1.00      0.99       207\n",
            "           1       1.00      0.99      0.99       220\n",
            "\n",
            "    accuracy                           0.99       427\n",
            "   macro avg       0.99      0.99      0.99       427\n",
            "weighted avg       0.99      0.99      0.99       427\n",
            "\n"
          ]
        }
      ]
    },
    {
      "cell_type": "markdown",
      "source": [
        "The Accuracy of **GradientBoostingClassifier** is also truns out to be 99%"
      ],
      "metadata": {
        "id": "AonWDL7vUmLq"
      }
    },
    {
      "cell_type": "code",
      "source": [
        "std_slc = StandardScaler()\n",
        "dec_tree = tree.DecisionTreeClassifier()\n",
        "pipe = Pipeline(steps=[('std_slc', std_slc),\n",
        "                           ('dec_tree', dec_tree)])\n",
        "criterion = ['gini', 'entropy']\n",
        "max_depth = [2,4,6,8,10,12]\n",
        "parameters = dict(dec_tree__criterion=criterion,\n",
        "                      dec_tree__max_depth=max_depth)"
      ],
      "metadata": {
        "id": "bXvKW5x0UGIE"
      },
      "execution_count": 39,
      "outputs": []
    },
    {
      "cell_type": "code",
      "source": [
        "clf_GS = GridSearchCV(pipe, parameters)\n",
        "clf_GS.fit(X_train,y_train)"
      ],
      "metadata": {
        "colab": {
          "base_uri": "https://localhost:8080/"
        },
        "id": "tq1gl2KBXRkw",
        "outputId": "c28e40a7-0a5b-4a27-cf19-478ea96bc0f2"
      },
      "execution_count": 40,
      "outputs": [
        {
          "output_type": "execute_result",
          "data": {
            "text/plain": [
              "GridSearchCV(estimator=Pipeline(steps=[('std_slc', StandardScaler()),\n",
              "                                       ('dec_tree', DecisionTreeClassifier())]),\n",
              "             param_grid={'dec_tree__criterion': ['gini', 'entropy'],\n",
              "                         'dec_tree__max_depth': [2, 4, 6, 8, 10, 12]})"
            ]
          },
          "metadata": {},
          "execution_count": 40
        }
      ]
    },
    {
      "cell_type": "code",
      "source": [
        "print('Best Criterion:', clf_GS.best_estimator_.get_params()['dec_tree__criterion'])\n",
        "print('Best max_depth:', clf_GS.best_estimator_.get_params()['dec_tree__max_depth'])\n",
        "print(); print(clf_GS.best_estimator_.get_params()['dec_tree'])"
      ],
      "metadata": {
        "colab": {
          "base_uri": "https://localhost:8080/"
        },
        "id": "mYP1nFV-Xmd_",
        "outputId": "a4da7d7b-946d-419e-cc18-a5d5fcbc2e52"
      },
      "execution_count": 41,
      "outputs": [
        {
          "output_type": "stream",
          "name": "stdout",
          "text": [
            "Best Criterion: entropy\n",
            "Best max_depth: 4\n",
            "\n",
            "DecisionTreeClassifier(criterion='entropy', max_depth=4)\n"
          ]
        }
      ]
    },
    {
      "cell_type": "code",
      "source": [
        "dec_tree = tree.DecisionTreeClassifier(criterion='gini',max_depth=4)\n",
        "dec_tree.fit(X_train,y_train)\n",
        "y_pred= dec_tree.predict(X_test)\n",
        "acc_sc.append(accuracy_score(y_test,y_pred))\n",
        "print((classification_report(y_test,y_pred)))"
      ],
      "metadata": {
        "colab": {
          "base_uri": "https://localhost:8080/"
        },
        "id": "b6BWMKUXX7KN",
        "outputId": "42094c7e-c32f-4fa6-c945-d4483820fd5a"
      },
      "execution_count": 42,
      "outputs": [
        {
          "output_type": "stream",
          "name": "stdout",
          "text": [
            "              precision    recall  f1-score   support\n",
            "\n",
            "           0       0.96      0.99      0.97       207\n",
            "           1       0.99      0.96      0.97       220\n",
            "\n",
            "    accuracy                           0.97       427\n",
            "   macro avg       0.97      0.97      0.97       427\n",
            "weighted avg       0.97      0.97      0.97       427\n",
            "\n"
          ]
        }
      ]
    },
    {
      "cell_type": "markdown",
      "source": [
        "**Note** The accuracy of **DecisionTree** is also 97% "
      ],
      "metadata": {
        "id": "ZPpxcHJIZUzj"
      }
    },
    {
      "cell_type": "code",
      "source": [
        "n_neig=0\n",
        "ac=0\n",
        "for i in range(3,25):\n",
        "  knn = KNeighborsClassifier(n_neighbors=i)\n",
        "  knn.fit(X_train,y_train)\n",
        "  y_pred=knn.predict(X_test)\n",
        "  accuracy= accuracy_score(y_test,y_pred)\n",
        "  if accuracy>ac:\n",
        "    ac=accuracy\n",
        "    n_neig=i\n",
        "\n",
        "print(\"Best Accuracy is \",ac,\"Number neighbors are \",n_neig)"
      ],
      "metadata": {
        "colab": {
          "base_uri": "https://localhost:8080/"
        },
        "id": "zqmb0By1Zf61",
        "outputId": "5404e258-da8a-44dc-ce63-ad2bf21a356f"
      },
      "execution_count": 43,
      "outputs": [
        {
          "output_type": "stream",
          "name": "stdout",
          "text": [
            "Best Accuracy is  0.990632318501171 Number neighbors are  8\n"
          ]
        }
      ]
    },
    {
      "cell_type": "code",
      "source": [
        "knn = KNeighborsClassifier(n_neighbors=8)\n",
        "knn.fit(X_train,y_train)\n",
        "y_pred=knn.predict(X_test)\n",
        "acc_sc.append(accuracy_score(y_test,y_pred))\n",
        "print((classification_report(y_test,y_pred)))"
      ],
      "metadata": {
        "colab": {
          "base_uri": "https://localhost:8080/"
        },
        "id": "OoKkpS3KcfvY",
        "outputId": "c2b99772-03ab-47e9-8abf-614769aa40bb"
      },
      "execution_count": 44,
      "outputs": [
        {
          "output_type": "stream",
          "name": "stdout",
          "text": [
            "              precision    recall  f1-score   support\n",
            "\n",
            "           0       0.99      1.00      0.99       207\n",
            "           1       1.00      0.99      0.99       220\n",
            "\n",
            "    accuracy                           0.99       427\n",
            "   macro avg       0.99      0.99      0.99       427\n",
            "weighted avg       0.99      0.99      0.99       427\n",
            "\n"
          ]
        }
      ]
    },
    {
      "cell_type": "markdown",
      "source": [
        "**Note** The Accuracy of **KNN Classifier** is 99%"
      ],
      "metadata": {
        "id": "1I-Sys1CdAmS"
      }
    },
    {
      "cell_type": "code",
      "source": [
        "grid={\"C\":np.logspace(-3,3,7)} \n",
        "logreg=LogisticRegression()\n",
        "logreg_cv=GridSearchCV(logreg,grid,cv=10)\n",
        "logreg_cv.fit(X_train,y_train)\n",
        "print(\"tuned hpyerparameters :(best parameters) \",logreg_cv.best_params_)\n",
        "print(\"accuracy :\",logreg_cv.best_score_)"
      ],
      "metadata": {
        "colab": {
          "base_uri": "https://localhost:8080/"
        },
        "id": "JbTsUmkudMCk",
        "outputId": "a3df682c-2229-4ec0-8a71-78d08a8d375b"
      },
      "execution_count": 45,
      "outputs": [
        {
          "output_type": "stream",
          "name": "stdout",
          "text": [
            "tuned hpyerparameters :(best parameters)  {'C': 100.0}\n",
            "accuracy : 0.9708787878787877\n"
          ]
        }
      ]
    },
    {
      "cell_type": "code",
      "source": [
        "logreg=LogisticRegression(C=1)\n",
        "logreg.fit(X_train,y_train)\n",
        "y_pred=logreg.predict(X_test)\n",
        "acc_sc.append(accuracy_score(y_test,y_pred))\n",
        "print(classification_report(y_test,y_pred))"
      ],
      "metadata": {
        "colab": {
          "base_uri": "https://localhost:8080/"
        },
        "id": "A29ZPmHAiLUR",
        "outputId": "80e3d51e-b8f4-4cb6-9a80-a05c3dbf5bab"
      },
      "execution_count": 46,
      "outputs": [
        {
          "output_type": "stream",
          "name": "stdout",
          "text": [
            "              precision    recall  f1-score   support\n",
            "\n",
            "           0       0.92      0.89      0.91       207\n",
            "           1       0.90      0.93      0.91       220\n",
            "\n",
            "    accuracy                           0.91       427\n",
            "   macro avg       0.91      0.91      0.91       427\n",
            "weighted avg       0.91      0.91      0.91       427\n",
            "\n"
          ]
        }
      ]
    },
    {
      "cell_type": "markdown",
      "source": [
        "**Note** The Accuracy of **Logistic Regression** is 91%"
      ],
      "metadata": {
        "id": "yTGCrDN2jVR7"
      }
    },
    {
      "cell_type": "code",
      "source": [
        "rfc=RandomForestClassifier(random_state=42)\n",
        "param_grid = { \n",
        "    'n_estimators': [200, 500],\n",
        "    'max_features': ['auto', 'sqrt', 'log2'],\n",
        "    'max_depth' : [4,5,6,7,8],\n",
        "    'criterion' :['gini', 'entropy']\n",
        "}\n",
        "CV_rfc = GridSearchCV(estimator=rfc, param_grid=param_grid, cv= 5)\n",
        "CV_rfc.fit(X_train, y_train)\n"
      ],
      "metadata": {
        "colab": {
          "base_uri": "https://localhost:8080/"
        },
        "id": "bEa72ZY1jhRb",
        "outputId": "4cbde421-8d94-4ec3-910a-83ce0636e64f"
      },
      "execution_count": 47,
      "outputs": [
        {
          "output_type": "execute_result",
          "data": {
            "text/plain": [
              "GridSearchCV(cv=5, estimator=RandomForestClassifier(random_state=42),\n",
              "             param_grid={'criterion': ['gini', 'entropy'],\n",
              "                         'max_depth': [4, 5, 6, 7, 8],\n",
              "                         'max_features': ['auto', 'sqrt', 'log2'],\n",
              "                         'n_estimators': [200, 500]})"
            ]
          },
          "metadata": {},
          "execution_count": 47
        }
      ]
    },
    {
      "cell_type": "code",
      "source": [
        "CV_rfc.best_params_"
      ],
      "metadata": {
        "colab": {
          "base_uri": "https://localhost:8080/"
        },
        "id": "Wdy2YrzlmLq0",
        "outputId": "a7dfc005-9540-4b35-dc26-8406ba94413b"
      },
      "execution_count": 48,
      "outputs": [
        {
          "output_type": "execute_result",
          "data": {
            "text/plain": [
              "{'criterion': 'entropy',\n",
              " 'max_depth': 5,\n",
              " 'max_features': 'auto',\n",
              " 'n_estimators': 500}"
            ]
          },
          "metadata": {},
          "execution_count": 48
        }
      ]
    },
    {
      "cell_type": "code",
      "source": [
        "rfc1=RandomForestClassifier(random_state=42, max_features='auto', n_estimators= 500, max_depth=5, criterion='entropy')"
      ],
      "metadata": {
        "id": "xSAMGG8kncKs"
      },
      "execution_count": 49,
      "outputs": []
    },
    {
      "cell_type": "code",
      "source": [
        "rfc1.fit(X_train, y_train)"
      ],
      "metadata": {
        "colab": {
          "base_uri": "https://localhost:8080/"
        },
        "id": "LDKTo52Rnj0J",
        "outputId": "fed354c6-0ce6-44c2-fa5f-b4582aa4c0ab"
      },
      "execution_count": 50,
      "outputs": [
        {
          "output_type": "execute_result",
          "data": {
            "text/plain": [
              "RandomForestClassifier(criterion='entropy', max_depth=5, n_estimators=500,\n",
              "                       random_state=42)"
            ]
          },
          "metadata": {},
          "execution_count": 50
        }
      ]
    },
    {
      "cell_type": "code",
      "source": [
        "pred=rfc1.predict(X_test)\n",
        "acc_sc.append(accuracy_score(y_test,pred))"
      ],
      "metadata": {
        "id": "UhSvgbJrnpmd"
      },
      "execution_count": 51,
      "outputs": []
    },
    {
      "cell_type": "code",
      "source": [
        "print(classification_report(y_test,pred))"
      ],
      "metadata": {
        "colab": {
          "base_uri": "https://localhost:8080/"
        },
        "id": "bOAFR4ILnurj",
        "outputId": "28981243-44ea-4c58-c81d-0ad310935fb1"
      },
      "execution_count": 52,
      "outputs": [
        {
          "output_type": "stream",
          "name": "stdout",
          "text": [
            "              precision    recall  f1-score   support\n",
            "\n",
            "           0       0.99      1.00      0.99       207\n",
            "           1       1.00      0.99      0.99       220\n",
            "\n",
            "    accuracy                           0.99       427\n",
            "   macro avg       0.99      0.99      0.99       427\n",
            "weighted avg       0.99      0.99      0.99       427\n",
            "\n"
          ]
        }
      ]
    },
    {
      "cell_type": "markdown",
      "source": [
        "**Note** Accuracy of **Random Forest** is 99%"
      ],
      "metadata": {
        "id": "6vg5RDkZq-6j"
      }
    },
    {
      "cell_type": "code",
      "source": [
        "cf_matrix = confusion_matrix(y_test, y_pred)\n",
        "ax = sns.heatmap(cf_matrix, annot=True, cmap='Blues')\n",
        "\n",
        "ax.set_title('Seaborn Confusion Matrix with labels\\n\\n');\n",
        "ax.set_xlabel('\\nPredicted Values')\n",
        "ax.set_ylabel('Actual Values ');\n",
        "\n",
        "## Ticket labels - List must be in alphabetical order\n",
        "ax.xaxis.set_ticklabels(['Imposter','Genuine'])\n",
        "ax.yaxis.set_ticklabels(['Imposter','Genuine'])\n",
        "\n",
        "## Display the visualization of the Confusion Matrix.\n",
        "plt.show()"
      ],
      "metadata": {
        "colab": {
          "base_uri": "https://localhost:8080/",
          "height": 347
        },
        "id": "6lKlcrlaUz03",
        "outputId": "020c554c-c146-4b38-f6d4-f62604da3031"
      },
      "execution_count": 53,
      "outputs": [
        {
          "output_type": "display_data",
          "data": {
            "text/plain": [
              "<Figure size 432x288 with 2 Axes>"
            ],
            "image/png": "[encoded data removed]"
          },
          "metadata": {}
        }
      ]
    },
    {
      "cell_type": "code",
      "source": [
        "from IPython.core.pylabtools import figsize\n",
        "New_Colors = ['green','blue','purple','brown','teal','red','magenta']\n",
        "plt.figure(figsize=(15,10))\n",
        "plt.bar(models, acc_sc, color=New_Colors)\n",
        "plt.title('Algorithems vs Accuracy', fontsize=14)\n",
        "plt.xlabel('Algorithems', fontsize=14)\n",
        "plt.ylabel('Accuracy', fontsize=14)\n",
        "plt.grid(True)\n",
        "plt.show()"
      ],
      "metadata": {
        "colab": {
          "base_uri": "https://localhost:8080/",
          "height": 627
        },
        "id": "l-nFc63TtgBb",
        "outputId": "1a02cfcd-6b6a-4a34-e527-9cf83430f3f1"
      },
      "execution_count": 54,
      "outputs": [
        {
          "output_type": "display_data",
          "data": {
            "text/plain": [
              "<Figure size 1080x720 with 1 Axes>"
            ],
            "image/png": "[encoded data removed]"
          },
          "metadata": {}
        }
      ]
    }
  ]
}